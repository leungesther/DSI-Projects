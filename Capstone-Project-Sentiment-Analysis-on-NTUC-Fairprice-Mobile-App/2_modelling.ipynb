{
 "cells": [
  {
   "cell_type": "markdown",
   "metadata": {},
   "source": [
    "### DSI Capstone Project:\n",
    "# Sentiment Analysis on NTUC Fairprice Mobile App\n",
    "---\n",
    "*Esther Leung Sau Yee (GA DSI 16)*"
   ]
  },
  {
   "cell_type": "markdown",
   "metadata": {},
   "source": [
    "<img src=\"./images/ntucfp_ec.jpg\" width=\"600\">"
   ]
  },
  {
   "cell_type": "markdown",
   "metadata": {},
   "source": [
    "# Problem Statement\n",
    "\n",
    "### \"How Might We Improve NTUC Fairprice Mobile App User Experience to Boost Online Grocery Sales?\""
   ]
  },
  {
   "cell_type": "markdown",
   "metadata": {},
   "source": [
    "With the growth in online grocery market, which was further fuelled by Covid-19, NTUC Fairprice needs to **ride the growth the online grocery market** by **identifying negative reviews or sentiments** on the NTUC Fairprice mobile app for **prompt follow up action**, and **improve overall mobile app customer experience** by identifying customers' **pain points** from the mobile app usage.\n",
    "\n",
    "As such, in this project, I aim to:\n",
    "\n",
    "1. Build a **classification model** for positive vs. negative reviews\n",
    "2. Apply **topic modelling** to identify consumers' pain points from negative reviews"
   ]
  },
  {
   "cell_type": "markdown",
   "metadata": {},
   "source": [
    "## Data Dictionary"
   ]
  },
  {
   "cell_type": "markdown",
   "metadata": {},
   "source": [
    "The NTUC Fairprice mobile app reviews were extracted from **Google Play Store** and **Apple AppStore**. \n",
    "\n",
    "After data cleaning and feature engineering, the data contains the following features:\n",
    "\n",
    "| Features | Description |\n",
    "|:--- | :--- |\n",
    "| date | Date and time of review |\n",
    "| review | User review on the mobile app |\n",
    "| rating | User rating on the mobile app (1 to 5, with 5 is highest and 1 is lowest) |\n",
    "| user | Username |\n",
    "| source | Source of review (Google Play Store or Apple AppStore) | \n",
    "| month | Month of review (value 1 to 12 for Janua\n",
    "| year | Year of review (between 2015 to 2020) |\n",
    "| neg_review | Target variable (1 for negative review, 0 for positive review) |\n",
    "| compound_score | VADER sentiment analyzer compound score (value -1 to 1) |\n",
    "| pos_score | VADER sentiment analyzer positive score (value 0 to 1) |\n",
    "| review_lem | User review on the mobile app after Lemmatization |"
   ]
  },
  {
   "cell_type": "markdown",
   "metadata": {},
   "source": [
    "This project is organised into 2 Jupyter notebooks. In this second notebook **\"2_modelling\"**, I will focus on:\n",
    "\n",
    "* [1. Pre-Modelling](#1.-Pre-Modelling)\n",
    "* [2. Text Classification](#2.-Text-Classification)\n",
    "* [3. Topic Modelling](#3.-Topic-Modelling)\n",
    "* [4. Conclusion & Recommendation](#4.-Conclusion-&-Recommendation)"
   ]
  },
  {
   "cell_type": "code",
   "execution_count": 1,
   "metadata": {},
   "outputs": [],
   "source": [
    "# import standard libraries\n",
    "import pandas as pd\n",
    "import numpy as np\n",
    "import matplotlib.pyplot as plt\n",
    "import seaborn as sns\n",
    "plt.style.use('seaborn-muted')\n",
    "\n",
    "# for classifier\n",
    "from sklearn.pipeline import Pipeline\n",
    "from sklearn.model_selection import train_test_split, cross_val_score, GridSearchCV\n",
    "from sklearn.feature_extraction.text import CountVectorizer, TfidfVectorizer\n",
    "from sklearn.linear_model import LogisticRegression\n",
    "from sklearn.naive_bayes import MultinomialNB\n",
    "from sklearn.svm import SVC\n",
    "from sklearn.ensemble import VotingClassifier\n",
    "from sklearn.metrics import classification_report, confusion_matrix, plot_confusion_matrix, plot_roc_curve, roc_auc_score\n",
    "\n",
    "# for neural network\n",
    "from tensorflow.keras.preprocessing.text import Tokenizer\n",
    "from tensorflow.keras.preprocessing.sequence import pad_sequences\n",
    "from tensorflow.keras.models import Sequential\n",
    "from tensorflow.keras.layers import Dense, LSTM, Flatten, Embedding, Dropout, Bidirectional, SpatialDropout1D\n",
    "from tensorflow.keras.optimizers import Adam\n",
    "from tensorflow.keras import regularizers\n",
    "from tensorflow.keras.callbacks import ModelCheckpoint\n",
    "\n",
    "# for topic modelling\n",
    "import gensim, spacy, logging, warnings\n",
    "from nltk.corpus import stopwords\n",
    "import en_core_web_sm\n",
    "import gensim.corpora as corpora\n",
    "from gensim.utils import lemmatize, simple_preprocess\n",
    "from gensim.models import CoherenceModel\n",
    "from pprint import pprint\n",
    "from wordcloud import WordCloud, STOPWORDS\n",
    "import matplotlib.colors as mcolors\n",
    "from matplotlib.patches import Rectangle\n",
    "\n",
    "%matplotlib inline"
   ]
  },
  {
   "cell_type": "code",
   "execution_count": 2,
   "metadata": {},
   "outputs": [],
   "source": [
    "# retrieving the data saved after data cleaning and feature engineering\n",
    "df = pd.read_csv('./data/reviews_for_modelling.csv')"
   ]
  },
  {
   "cell_type": "code",
   "execution_count": 3,
   "metadata": {},
   "outputs": [
    {
     "data": {
      "text/html": [
       "<div>\n",
       "<style scoped>\n",
       "    .dataframe tbody tr th:only-of-type {\n",
       "        vertical-align: middle;\n",
       "    }\n",
       "\n",
       "    .dataframe tbody tr th {\n",
       "        vertical-align: top;\n",
       "    }\n",
       "\n",
       "    .dataframe thead th {\n",
       "        text-align: right;\n",
       "    }\n",
       "</style>\n",
       "<table border=\"1\" class=\"dataframe\">\n",
       "  <thead>\n",
       "    <tr style=\"text-align: right;\">\n",
       "      <th></th>\n",
       "      <th>date</th>\n",
       "      <th>review</th>\n",
       "      <th>rating</th>\n",
       "      <th>user</th>\n",
       "      <th>source</th>\n",
       "      <th>month</th>\n",
       "      <th>year</th>\n",
       "      <th>neg_review</th>\n",
       "      <th>compound_score</th>\n",
       "      <th>pos_score</th>\n",
       "      <th>review_lem</th>\n",
       "    </tr>\n",
       "  </thead>\n",
       "  <tbody>\n",
       "    <tr>\n",
       "      <th>0</th>\n",
       "      <td>2020-09-11 13:47:35</td>\n",
       "      <td>Not a good experience for first timer. Login a...</td>\n",
       "      <td>1</td>\n",
       "      <td>Monish Punekar</td>\n",
       "      <td>googleplay</td>\n",
       "      <td>9</td>\n",
       "      <td>2020</td>\n",
       "      <td>1</td>\n",
       "      <td>-0.5358</td>\n",
       "      <td>0.045</td>\n",
       "      <td>good experience first timer login sign problem...</td>\n",
       "    </tr>\n",
       "    <tr>\n",
       "      <th>1</th>\n",
       "      <td>2020-07-31 21:04:24</td>\n",
       "      <td>One of the lousiest app! Tried using it severa...</td>\n",
       "      <td>1</td>\n",
       "      <td>yt ng</td>\n",
       "      <td>googleplay</td>\n",
       "      <td>7</td>\n",
       "      <td>2020</td>\n",
       "      <td>1</td>\n",
       "      <td>-0.9258</td>\n",
       "      <td>0.024</td>\n",
       "      <td>one lousiest tried using several time since ma...</td>\n",
       "    </tr>\n",
       "    <tr>\n",
       "      <th>2</th>\n",
       "      <td>2020-09-06 08:10:27</td>\n",
       "      <td>Lousy app. Cannot find most items using brand ...</td>\n",
       "      <td>1</td>\n",
       "      <td>Nathanael Lim</td>\n",
       "      <td>googleplay</td>\n",
       "      <td>9</td>\n",
       "      <td>2020</td>\n",
       "      <td>1</td>\n",
       "      <td>-0.4767</td>\n",
       "      <td>0.063</td>\n",
       "      <td>lousy cannot find item using brand name change...</td>\n",
       "    </tr>\n",
       "    <tr>\n",
       "      <th>3</th>\n",
       "      <td>2020-06-25 00:07:48</td>\n",
       "      <td>NEW : GETS BETTER AND BETTER - MY LISTS DON'T ...</td>\n",
       "      <td>1</td>\n",
       "      <td>A Google user</td>\n",
       "      <td>googleplay</td>\n",
       "      <td>6</td>\n",
       "      <td>2020</td>\n",
       "      <td>1</td>\n",
       "      <td>0.8797</td>\n",
       "      <td>0.175</td>\n",
       "      <td>new get better better list work shop old impro...</td>\n",
       "    </tr>\n",
       "    <tr>\n",
       "      <th>4</th>\n",
       "      <td>2020-07-19 12:43:30</td>\n",
       "      <td>The app would have gotten a 4 stars from me ex...</td>\n",
       "      <td>1</td>\n",
       "      <td>Desmond Tan</td>\n",
       "      <td>googleplay</td>\n",
       "      <td>7</td>\n",
       "      <td>2020</td>\n",
       "      <td>1</td>\n",
       "      <td>-0.2245</td>\n",
       "      <td>0.057</td>\n",
       "      <td>would gotten star except fact thought thru wel...</td>\n",
       "    </tr>\n",
       "  </tbody>\n",
       "</table>\n",
       "</div>"
      ],
      "text/plain": [
       "                  date                                             review  \\\n",
       "0  2020-09-11 13:47:35  Not a good experience for first timer. Login a...   \n",
       "1  2020-07-31 21:04:24  One of the lousiest app! Tried using it severa...   \n",
       "2  2020-09-06 08:10:27  Lousy app. Cannot find most items using brand ...   \n",
       "3  2020-06-25 00:07:48  NEW : GETS BETTER AND BETTER - MY LISTS DON'T ...   \n",
       "4  2020-07-19 12:43:30  The app would have gotten a 4 stars from me ex...   \n",
       "\n",
       "   rating            user      source  month  year  neg_review  \\\n",
       "0       1  Monish Punekar  googleplay      9  2020           1   \n",
       "1       1           yt ng  googleplay      7  2020           1   \n",
       "2       1   Nathanael Lim  googleplay      9  2020           1   \n",
       "3       1   A Google user  googleplay      6  2020           1   \n",
       "4       1     Desmond Tan  googleplay      7  2020           1   \n",
       "\n",
       "   compound_score  pos_score  \\\n",
       "0         -0.5358      0.045   \n",
       "1         -0.9258      0.024   \n",
       "2         -0.4767      0.063   \n",
       "3          0.8797      0.175   \n",
       "4         -0.2245      0.057   \n",
       "\n",
       "                                          review_lem  \n",
       "0  good experience first timer login sign problem...  \n",
       "1  one lousiest tried using several time since ma...  \n",
       "2  lousy cannot find item using brand name change...  \n",
       "3  new get better better list work shop old impro...  \n",
       "4  would gotten star except fact thought thru wel...  "
      ]
     },
     "execution_count": 3,
     "metadata": {},
     "output_type": "execute_result"
    }
   ],
   "source": [
    "df.head()"
   ]
  },
  {
   "cell_type": "markdown",
   "metadata": {},
   "source": [
    "# 1. Pre-Modelling"
   ]
  },
  {
   "cell_type": "markdown",
   "metadata": {},
   "source": [
    "The first modelling task at hand is to build a **Text Classification Model** to **identify negative vs. positive reviews** on NTUC Fairprice mobile app.\n",
    "\n",
    "Before modelling, let's first set up the X and y variables and perform train test split."
   ]
  },
  {
   "cell_type": "code",
   "execution_count": 4,
   "metadata": {},
   "outputs": [],
   "source": [
    "# set up X and y\n",
    "X = df[['review_lem', 'pos_score']]\n",
    "y = df['neg_review']"
   ]
  },
  {
   "cell_type": "code",
   "execution_count": 5,
   "metadata": {},
   "outputs": [],
   "source": [
    "# train test split\n",
    "X_train, X_test, y_train, y_test = train_test_split(X, y, test_size=0.25, stratify=y, random_state=42)"
   ]
  },
  {
   "cell_type": "code",
   "execution_count": 6,
   "metadata": {},
   "outputs": [
    {
     "data": {
      "text/plain": [
       "(2726, 2)"
      ]
     },
     "execution_count": 6,
     "metadata": {},
     "output_type": "execute_result"
    }
   ],
   "source": [
    "X_train.shape"
   ]
  },
  {
   "cell_type": "code",
   "execution_count": 7,
   "metadata": {},
   "outputs": [
    {
     "data": {
      "text/plain": [
       "(909, 2)"
      ]
     },
     "execution_count": 7,
     "metadata": {},
     "output_type": "execute_result"
    }
   ],
   "source": [
    "X_test.shape"
   ]
  },
  {
   "cell_type": "code",
   "execution_count": 8,
   "metadata": {
    "scrolled": false
   },
   "outputs": [
    {
     "data": {
      "text/plain": [
       "0    465\n",
       "1    444\n",
       "Name: neg_review, dtype: int64"
      ]
     },
     "execution_count": 8,
     "metadata": {},
     "output_type": "execute_result"
    }
   ],
   "source": [
    "y_test.value_counts()"
   ]
  },
  {
   "cell_type": "code",
   "execution_count": 9,
   "metadata": {
    "scrolled": true
   },
   "outputs": [
    {
     "data": {
      "text/plain": [
       "0    0.511551\n",
       "1    0.488449\n",
       "Name: neg_review, dtype: float64"
      ]
     },
     "execution_count": 9,
     "metadata": {},
     "output_type": "execute_result"
    }
   ],
   "source": [
    "y_test.value_counts(normalize=True)"
   ]
  },
  {
   "cell_type": "markdown",
   "metadata": {},
   "source": [
    "The baseline accuracy is the percentage of majority class. In this case, the **baseline accuracy is  0.51**.\n",
    "\n",
    "It is also noted that there is no imbalance class issue in this data set."
   ]
  },
  {
   "cell_type": "markdown",
   "metadata": {},
   "source": [
    "# 2. Text Classification"
   ]
  },
  {
   "cell_type": "markdown",
   "metadata": {},
   "source": [
    "On of the key objectives of this project is to **classify positive and negative reviews** for NTUC Fairprice app. Specifically, the text classification model should have:\n",
    "* **High accuracy**\n",
    "* **High recall**, i.e. predict positive class (Negative Reviews) well so that they can be flagged for follow up \n",
    "* **High ROC AUC score**, i.e. the model has strong discrimination capacity to distinguish between positive class and negative class"
   ]
  },
  {
   "cell_type": "markdown",
   "metadata": {},
   "source": [
    "I will use the following approaches for modelling:\n",
    "1. Classical Machine Learning approach using text review as feature\n",
    "2. Classical Machine Learning approach using both text review and VADER positive score as features\n",
    "3. Deep Learning approach using LSTM"
   ]
  },
  {
   "cell_type": "markdown",
   "metadata": {},
   "source": [
    "## 2.1 Classical Machine Learning (Text Reviews as Feature)"
   ]
  },
  {
   "cell_type": "markdown",
   "metadata": {},
   "source": [
    "I will be using a combination of the following:\n",
    "\n",
    "* Feature extraction using CountVectorizer and TfidfVectorizer\n",
    "* Classification using Logistic Regression, Multinomial Naive Bayes, and Support Vector Machine"
   ]
  },
  {
   "cell_type": "markdown",
   "metadata": {},
   "source": [
    "Before I get started, let's first define a function for model evaluation."
   ]
  },
  {
   "cell_type": "code",
   "execution_count": 10,
   "metadata": {},
   "outputs": [],
   "source": [
    "# define function for model evaluation\n",
    "def model_eval(model_name, model, X_test, y_test, y_preds):\n",
    "    \"\"\"function to generate classification report,\n",
    "    plot confusion matrix and ROC curve\"\"\"\n",
    "    print(f\"Model           : {model_name}\")\n",
    "    print('----------------------------------------------------------------')\n",
    "    print(f\"best parameters : \")\n",
    "    print(f\"{model.best_params_}\")\n",
    "    print(\" \")\n",
    "    print(f\"train accuracy  :  {model.best_score_:.2f}\")\n",
    "    print(\" \")\n",
    "    print(classification_report(y_test, y_preds))\n",
    "    plot_confusion_matrix(model.best_estimator_, X_test, y_test, cmap='Blues', values_format='d');\n",
    "    plot_roc_curve(model.best_estimator_, X_test, y_test);"
   ]
  },
  {
   "cell_type": "markdown",
   "metadata": {},
   "source": [
    "## Model 1a: Logistic Regression with CountVectorizer"
   ]
  },
  {
   "cell_type": "code",
   "execution_count": 11,
   "metadata": {},
   "outputs": [
    {
     "data": {
      "text/plain": [
       "0.8352891756561481"
      ]
     },
     "execution_count": 11,
     "metadata": {},
     "output_type": "execute_result"
    }
   ],
   "source": [
    "# set up pipeline\n",
    "pipe_lr_cvec = Pipeline([\n",
    "    ('cvec', CountVectorizer()),\n",
    "    ('lr', LogisticRegression(solver='lbfgs'))\n",
    "])\n",
    "\n",
    "# cross validation using training data\n",
    "cross_val_score(pipe_lr_cvec, X_train['review_lem'], y_train, cv=5).mean()"
   ]
  },
  {
   "cell_type": "code",
   "execution_count": 12,
   "metadata": {
    "scrolled": false
   },
   "outputs": [
    {
     "data": {
      "text/plain": [
       "{'memory': None,\n",
       " 'steps': [('cvec', CountVectorizer()), ('lr', LogisticRegression())],\n",
       " 'verbose': False,\n",
       " 'cvec': CountVectorizer(),\n",
       " 'lr': LogisticRegression(),\n",
       " 'cvec__analyzer': 'word',\n",
       " 'cvec__binary': False,\n",
       " 'cvec__decode_error': 'strict',\n",
       " 'cvec__dtype': numpy.int64,\n",
       " 'cvec__encoding': 'utf-8',\n",
       " 'cvec__input': 'content',\n",
       " 'cvec__lowercase': True,\n",
       " 'cvec__max_df': 1.0,\n",
       " 'cvec__max_features': None,\n",
       " 'cvec__min_df': 1,\n",
       " 'cvec__ngram_range': (1, 1),\n",
       " 'cvec__preprocessor': None,\n",
       " 'cvec__stop_words': None,\n",
       " 'cvec__strip_accents': None,\n",
       " 'cvec__token_pattern': '(?u)\\\\b\\\\w\\\\w+\\\\b',\n",
       " 'cvec__tokenizer': None,\n",
       " 'cvec__vocabulary': None,\n",
       " 'lr__C': 1.0,\n",
       " 'lr__class_weight': None,\n",
       " 'lr__dual': False,\n",
       " 'lr__fit_intercept': True,\n",
       " 'lr__intercept_scaling': 1,\n",
       " 'lr__l1_ratio': None,\n",
       " 'lr__max_iter': 100,\n",
       " 'lr__multi_class': 'auto',\n",
       " 'lr__n_jobs': None,\n",
       " 'lr__penalty': 'l2',\n",
       " 'lr__random_state': None,\n",
       " 'lr__solver': 'lbfgs',\n",
       " 'lr__tol': 0.0001,\n",
       " 'lr__verbose': 0,\n",
       " 'lr__warm_start': False}"
      ]
     },
     "execution_count": 12,
     "metadata": {},
     "output_type": "execute_result"
    }
   ],
   "source": [
    "pipe_lr_cvec.get_params()"
   ]
  },
  {
   "cell_type": "code",
   "execution_count": 13,
   "metadata": {},
   "outputs": [],
   "source": [
    "# set up parameters for gridsearch\n",
    "pipe_lr_cvec_params = {\n",
    "    'cvec__max_features': [2000],    # tried [2000, 3000, 4000, 5000]\n",
    "    'cvec__min_df': [2],             # tried [1, 2]\n",
    "    'cvec__max_df': [0.9],           # tried [0.9, 0.95, 1.0]\n",
    "    'cvec__ngram_range': [(1,2)],    # tried [(1,1), (1,2), (2,2)]\n",
    "    'lr__C': [1.0],                  # tried [1.0, 2.0]\n",
    "    'lr__max_iter': [100]            # tried [100, 200] \n",
    "}\n",
    "\n",
    "# instantiate gridsearch\n",
    "gs_lr_cvec = GridSearchCV(pipe_lr_cvec, param_grid = pipe_lr_cvec_params, cv=5)\n",
    "\n",
    "# fit gridsearch model\n",
    "gs_lr_cvec.fit(X_train['review_lem'], y_train)\n",
    "\n",
    "# generate predictions\n",
    "gs_lr_cvec_y_preds = gs_lr_cvec.best_estimator_.predict(X_test['review_lem'])"
   ]
  },
  {
   "cell_type": "code",
   "execution_count": 14,
   "metadata": {
    "scrolled": false
   },
   "outputs": [
    {
     "name": "stdout",
     "output_type": "stream",
     "text": [
      "Model           : Logistic Regression with CountVectorizer\n",
      "----------------------------------------------------------------\n",
      "best parameters : \n",
      "{'cvec__max_df': 0.9, 'cvec__max_features': 2000, 'cvec__min_df': 2, 'cvec__ngram_range': (1, 2), 'lr__C': 1.0, 'lr__max_iter': 100}\n",
      " \n",
      "train accuracy  :  0.84\n",
      " \n",
      "              precision    recall  f1-score   support\n",
      "\n",
      "           0       0.84      0.88      0.86       465\n",
      "           1       0.87      0.83      0.85       444\n",
      "\n",
      "    accuracy                           0.85       909\n",
      "   macro avg       0.86      0.85      0.85       909\n",
      "weighted avg       0.86      0.85      0.85       909\n",
      "\n"
     ]
    },
    {
     "data": {
      "image/png": "[encoded data removed]",
      "text/plain": [
       "<Figure size 432x288 with 2 Axes>"
      ]
     },
     "metadata": {
      "needs_background": "light"
     },
     "output_type": "display_data"
    },
    {
     "data": {
      "image/png": "[encoded data removed]",
      "text/plain": [
       "<Figure size 432x288 with 1 Axes>"
      ]
     },
     "metadata": {
      "needs_background": "light"
     },
     "output_type": "display_data"
    }
   ],
   "source": [
    "model_eval('Logistic Regression with CountVectorizer', gs_lr_cvec, \n",
    "           X_test['review_lem'], y_test, gs_lr_cvec_y_preds)"
   ]
  },
  {
   "cell_type": "markdown",
   "metadata": {},
   "source": [
    "The **Logistic Regression with CountVectorizer** model has a train accuracy of 0.84 and a **test accuracy of 0.85**. Recall is at 0.83, and the ROC AUC score is 0.92."
   ]
  },
  {
   "cell_type": "code",
   "execution_count": 15,
   "metadata": {},
   "outputs": [],
   "source": [
    "lr_cvec_coef = pd.DataFrame(gs_lr_cvec.best_estimator_.named_steps['cvec'].get_feature_names(), columns=['word'])\n",
    "lr_cvec_coef['exp_coef'] = np.exp(gs_lr_cvec.best_estimator_.named_steps['lr'].coef_[0])"
   ]
  },
  {
   "cell_type": "code",
   "execution_count": 16,
   "metadata": {},
   "outputs": [
    {
     "data": {
      "image/png": "[encoded data removed]",
      "text/plain": [
       "<Figure size 864x432 with 1 Axes>"
      ]
     },
     "metadata": {
      "needs_background": "light"
     },
     "output_type": "display_data"
    }
   ],
   "source": [
    "lr_cvec_coef.sort_values(by='exp_coef').tail(10).plot(x='word', y='exp_coef', kind='barh', figsize=(12, 6), legend=None, color='lightpink')\n",
    "plt.title(\"Logistic Regression with CountVectorizer's Top 10 Most Predictive Words for Negative Reviews\", size=15, y=1.01)\n",
    "plt.ylabel('Word', size=12)\n",
    "plt.yticks(size=14)\n",
    "plt.tight_layout();"
   ]
  },
  {
   "cell_type": "code",
   "execution_count": 17,
   "metadata": {},
   "outputs": [
    {
     "data": {
      "image/png": "[encoded data removed]",
      "text/plain": [
       "<Figure size 864x432 with 1 Axes>"
      ]
     },
     "metadata": {
      "needs_background": "light"
     },
     "output_type": "display_data"
    }
   ],
   "source": [
    "lr_cvec_coef.sort_values(by='exp_coef').head(10).plot(x='word', y='exp_coef', kind='barh', figsize=(12, 6), legend=None, color='mediumaquamarine')\n",
    "plt.title(\"Logistic Regression with CountVectorizer's Top 10 Most Predictive Words for Positive Reviews\", size=15, y=1.01)\n",
    "plt.ylabel('Word', size=12)\n",
    "plt.yticks(size=14)\n",
    "plt.tight_layout();"
   ]
  },
  {
   "cell_type": "markdown",
   "metadata": {},
   "source": [
    "In the **Logistic Regression with CountVectorizer** model, the top predictive words are:\n",
    "\n",
    "* For negative reviews: **'poor', 'slow' and 'hang'**\n",
    "* For positive reviews: **'lazada', 'efficient', and 'happy'**"
   ]
  },
  {
   "cell_type": "markdown",
   "metadata": {},
   "source": [
    "## Model 1b: Logistic Regression with TfidfVectorizer"
   ]
  },
  {
   "cell_type": "code",
   "execution_count": 18,
   "metadata": {},
   "outputs": [
    {
     "data": {
      "text/plain": [
       "0.842254259501966"
      ]
     },
     "execution_count": 18,
     "metadata": {},
     "output_type": "execute_result"
    }
   ],
   "source": [
    "# set up pipeline\n",
    "pipe_lr_tvec = Pipeline([\n",
    "    ('tvec', TfidfVectorizer()),\n",
    "    ('lr', LogisticRegression(solver='lbfgs'))\n",
    "])\n",
    "\n",
    "# cross validation using training data\n",
    "cross_val_score(pipe_lr_tvec, X_train['review_lem'], y_train, cv=5).mean()"
   ]
  },
  {
   "cell_type": "code",
   "execution_count": 19,
   "metadata": {
    "scrolled": true
   },
   "outputs": [
    {
     "data": {
      "text/plain": [
       "{'memory': None,\n",
       " 'steps': [('tvec', TfidfVectorizer()), ('lr', LogisticRegression())],\n",
       " 'verbose': False,\n",
       " 'tvec': TfidfVectorizer(),\n",
       " 'lr': LogisticRegression(),\n",
       " 'tvec__analyzer': 'word',\n",
       " 'tvec__binary': False,\n",
       " 'tvec__decode_error': 'strict',\n",
       " 'tvec__dtype': numpy.float64,\n",
       " 'tvec__encoding': 'utf-8',\n",
       " 'tvec__input': 'content',\n",
       " 'tvec__lowercase': True,\n",
       " 'tvec__max_df': 1.0,\n",
       " 'tvec__max_features': None,\n",
       " 'tvec__min_df': 1,\n",
       " 'tvec__ngram_range': (1, 1),\n",
       " 'tvec__norm': 'l2',\n",
       " 'tvec__preprocessor': None,\n",
       " 'tvec__smooth_idf': True,\n",
       " 'tvec__stop_words': None,\n",
       " 'tvec__strip_accents': None,\n",
       " 'tvec__sublinear_tf': False,\n",
       " 'tvec__token_pattern': '(?u)\\\\b\\\\w\\\\w+\\\\b',\n",
       " 'tvec__tokenizer': None,\n",
       " 'tvec__use_idf': True,\n",
       " 'tvec__vocabulary': None,\n",
       " 'lr__C': 1.0,\n",
       " 'lr__class_weight': None,\n",
       " 'lr__dual': False,\n",
       " 'lr__fit_intercept': True,\n",
       " 'lr__intercept_scaling': 1,\n",
       " 'lr__l1_ratio': None,\n",
       " 'lr__max_iter': 100,\n",
       " 'lr__multi_class': 'auto',\n",
       " 'lr__n_jobs': None,\n",
       " 'lr__penalty': 'l2',\n",
       " 'lr__random_state': None,\n",
       " 'lr__solver': 'lbfgs',\n",
       " 'lr__tol': 0.0001,\n",
       " 'lr__verbose': 0,\n",
       " 'lr__warm_start': False}"
      ]
     },
     "execution_count": 19,
     "metadata": {},
     "output_type": "execute_result"
    }
   ],
   "source": [
    "pipe_lr_tvec.get_params()"
   ]
  },
  {
   "cell_type": "code",
   "execution_count": 20,
   "metadata": {},
   "outputs": [],
   "source": [
    "# set up parameters for gridsearch\n",
    "pipe_lr_tvec_params = {\n",
    "    'tvec__max_features': [2000],   # tried [2000, 3000, 4000, 5000]\n",
    "    'tvec__min_df': [2],            # tried [1, 2]\n",
    "    'tvec__max_df': [0.9],          # tried [0.9, 0.95, 1.0]\n",
    "    'tvec__ngram_range': [(1, 1)],  # tried [(1, 1), (1,2), (2,2)]\n",
    "    'lr__C': [2.0],                 # tried [1.0, 2.0]\n",
    "    'lr__max_iter': [100]           # tried [100, 200]\n",
    "}\n",
    "\n",
    "# instantiate gridsearch\n",
    "gs_lr_tvec = GridSearchCV(pipe_lr_tvec, param_grid = pipe_lr_tvec_params, cv=5)\n",
    "\n",
    "# fit gridsearch model\n",
    "gs_lr_tvec.fit(X_train['review_lem'], y_train)\n",
    "\n",
    "# generate predictions\n",
    "gs_lr_tvec_y_preds = gs_lr_tvec.best_estimator_.predict(X_test['review_lem'])"
   ]
  },
  {
   "cell_type": "code",
   "execution_count": 21,
   "metadata": {},
   "outputs": [
    {
     "name": "stdout",
     "output_type": "stream",
     "text": [
      "Model           : Logistic Regression with TfidfVectorizer\n",
      "----------------------------------------------------------------\n",
      "best parameters : \n",
      "{'lr__C': 2.0, 'lr__max_iter': 100, 'tvec__max_df': 0.9, 'tvec__max_features': 2000, 'tvec__min_df': 2, 'tvec__ngram_range': (1, 1)}\n",
      " \n",
      "train accuracy  :  0.85\n",
      " \n",
      "              precision    recall  f1-score   support\n",
      "\n",
      "           0       0.89      0.85      0.87       465\n",
      "           1       0.85      0.89      0.87       444\n",
      "\n",
      "    accuracy                           0.87       909\n",
      "   macro avg       0.87      0.87      0.87       909\n",
      "weighted avg       0.87      0.87      0.87       909\n",
      "\n"
     ]
    },
    {
     "data": {
      "image/png": "[encoded data removed]",
      "text/plain": [
       "<Figure size 432x288 with 2 Axes>"
      ]
     },
     "metadata": {
      "needs_background": "light"
     },
     "output_type": "display_data"
    },
    {
     "data": {
      "image/png": "[encoded data removed]",
      "text/plain": [
       "<Figure size 432x288 with 1 Axes>"
      ]
     },
     "metadata": {
      "needs_background": "light"
     },
     "output_type": "display_data"
    }
   ],
   "source": [
    "model_eval('Logistic Regression with TfidfVectorizer', gs_lr_tvec, \n",
    "           X_test['review_lem'], y_test, gs_lr_tvec_y_preds)"
   ]
  },
  {
   "cell_type": "markdown",
   "metadata": {},
   "source": [
    "The **Logistic Regression with TfidfVectorizer** has a train accuracy of 0.85 and **test accuracy of 0.87**. Recall and ROC AUC score are higher at 0.89 and 0.93 respectively as compared to Logistic Regression with CountVectorizer. "
   ]
  },
  {
   "cell_type": "code",
   "execution_count": 22,
   "metadata": {},
   "outputs": [],
   "source": [
    "lr_tvec_coef = pd.DataFrame(gs_lr_tvec.best_estimator_.named_steps['tvec'].get_feature_names(), columns=['word'])\n",
    "lr_tvec_coef['exp_coef'] = np.exp(gs_lr_tvec.best_estimator_.named_steps['lr'].coef_[0])"
   ]
  },
  {
   "cell_type": "code",
   "execution_count": 23,
   "metadata": {},
   "outputs": [
    {
     "data": {
      "image/png": "[encoded data removed]",
      "text/plain": [
       "<Figure size 864x432 with 1 Axes>"
      ]
     },
     "metadata": {
      "needs_background": "light"
     },
     "output_type": "display_data"
    }
   ],
   "source": [
    "lr_tvec_coef.sort_values(by='exp_coef').tail(10).plot(x='word', y='exp_coef', kind='barh', figsize=(12, 6), legend=None, color='lightpink')\n",
    "plt.title(\"Logistic Regression with TfidfVectorizer's Top 10 Most Predictive Words for Negative Reviews\", size=15, y=1.01)\n",
    "plt.ylabel('Word', size=12)\n",
    "plt.yticks(size=14)\n",
    "plt.tight_layout();"
   ]
  },
  {
   "cell_type": "code",
   "execution_count": 24,
   "metadata": {},
   "outputs": [
    {
     "data": {
      "image/png": "[encoded data removed]",
      "text/plain": [
       "<Figure size 864x432 with 1 Axes>"
      ]
     },
     "metadata": {
      "needs_background": "light"
     },
     "output_type": "display_data"
    }
   ],
   "source": [
    "lr_tvec_coef.sort_values(by='exp_coef').head(10).plot(x='word', y='exp_coef', kind='barh', figsize=(12, 6), legend=None, color='mediumaquamarine')\n",
    "plt.title(\"Logistic Regression with TfidfVectorizer's Top 10 Most Predictive Words for Positive Reviews\", size=15, y=1.01)\n",
    "plt.ylabel('Word', size=12)\n",
    "plt.yticks(size=14)\n",
    "plt.tight_layout();"
   ]
  },
  {
   "cell_type": "markdown",
   "metadata": {},
   "source": [
    "In the **Logistic Regression with TfidfVectorizer**, the top predictive words are:\n",
    "\n",
    "* For negative reviews: **'slow', 'hang' and 'keep'**\n",
    "* For positive reviews: **'efficient', 'smooth', and 'convenient'**"
   ]
  },
  {
   "cell_type": "markdown",
   "metadata": {},
   "source": [
    "## Model 2a: MultinomialNB with CountVectorizer"
   ]
  },
  {
   "cell_type": "code",
   "execution_count": 25,
   "metadata": {},
   "outputs": [
    {
     "data": {
      "text/plain": [
       "0.8378526061094869"
      ]
     },
     "execution_count": 25,
     "metadata": {},
     "output_type": "execute_result"
    }
   ],
   "source": [
    "# set up pipeline\n",
    "pipe_nb_cvec = Pipeline([\n",
    "    ('cvec', CountVectorizer()),\n",
    "    ('nb', MultinomialNB())\n",
    "])\n",
    "\n",
    "# cross validation using training data\n",
    "cross_val_score(pipe_nb_cvec, X_train['review_lem'], y_train, cv=5).mean()"
   ]
  },
  {
   "cell_type": "code",
   "execution_count": 26,
   "metadata": {
    "scrolled": true
   },
   "outputs": [
    {
     "data": {
      "text/plain": [
       "{'memory': None,\n",
       " 'steps': [('cvec', CountVectorizer()), ('nb', MultinomialNB())],\n",
       " 'verbose': False,\n",
       " 'cvec': CountVectorizer(),\n",
       " 'nb': MultinomialNB(),\n",
       " 'cvec__analyzer': 'word',\n",
       " 'cvec__binary': False,\n",
       " 'cvec__decode_error': 'strict',\n",
       " 'cvec__dtype': numpy.int64,\n",
       " 'cvec__encoding': 'utf-8',\n",
       " 'cvec__input': 'content',\n",
       " 'cvec__lowercase': True,\n",
       " 'cvec__max_df': 1.0,\n",
       " 'cvec__max_features': None,\n",
       " 'cvec__min_df': 1,\n",
       " 'cvec__ngram_range': (1, 1),\n",
       " 'cvec__preprocessor': None,\n",
       " 'cvec__stop_words': None,\n",
       " 'cvec__strip_accents': None,\n",
       " 'cvec__token_pattern': '(?u)\\\\b\\\\w\\\\w+\\\\b',\n",
       " 'cvec__tokenizer': None,\n",
       " 'cvec__vocabulary': None,\n",
       " 'nb__alpha': 1.0,\n",
       " 'nb__class_prior': None,\n",
       " 'nb__fit_prior': True}"
      ]
     },
     "execution_count": 26,
     "metadata": {},
     "output_type": "execute_result"
    }
   ],
   "source": [
    "pipe_nb_cvec.get_params()"
   ]
  },
  {
   "cell_type": "code",
   "execution_count": 27,
   "metadata": {},
   "outputs": [],
   "source": [
    "# set up parameters for gridsearch\n",
    "pipe_nb_cvec_params = {\n",
    "    'cvec__max_features': [3000],  # tried [2000, 3000, 4000, 5000]\n",
    "    'cvec__min_df': [2],           # tried [1, 2]\n",
    "    'cvec__max_df': [0.9],         # tried [0.9, 0.95, 1.0]\n",
    "    'cvec__ngram_range': [(1,2)],  # tried [(1,1), (1,2), (2,2)]\n",
    "    'nb__alpha': [1.0]             # tried [1.0, 1e-1, 1e-2] \n",
    "}\n",
    "\n",
    "# instantiate gridsearch\n",
    "gs_nb_cvec = GridSearchCV(pipe_nb_cvec, param_grid = pipe_nb_cvec_params, cv=5)\n",
    "\n",
    "# fit gridsearch model\n",
    "gs_nb_cvec.fit(X_train['review_lem'], y_train)\n",
    "\n",
    "# generate predictions\n",
    "gs_nb_cvec_y_preds = gs_nb_cvec.best_estimator_.predict(X_test['review_lem'])"
   ]
  },
  {
   "cell_type": "code",
   "execution_count": 28,
   "metadata": {},
   "outputs": [
    {
     "name": "stdout",
     "output_type": "stream",
     "text": [
      "Model           : MultinomialNB with CountVectorizer\n",
      "----------------------------------------------------------------\n",
      "best parameters : \n",
      "{'cvec__max_df': 0.9, 'cvec__max_features': 3000, 'cvec__min_df': 2, 'cvec__ngram_range': (1, 2), 'nb__alpha': 1.0}\n",
      " \n",
      "train accuracy  :  0.84\n",
      " \n",
      "              precision    recall  f1-score   support\n",
      "\n",
      "           0       0.87      0.88      0.87       465\n",
      "           1       0.87      0.86      0.87       444\n",
      "\n",
      "    accuracy                           0.87       909\n",
      "   macro avg       0.87      0.87      0.87       909\n",
      "weighted avg       0.87      0.87      0.87       909\n",
      "\n"
     ]
    },
    {
     "data": {
      "image/png": "[encoded data removed]",
      "text/plain": [
       "<Figure size 432x288 with 2 Axes>"
      ]
     },
     "metadata": {
      "needs_background": "light"
     },
     "output_type": "display_data"
    },
    {
     "data": {
      "image/png": "[encoded data removed]",
      "text/plain": [
       "<Figure size 432x288 with 1 Axes>"
      ]
     },
     "metadata": {
      "needs_background": "light"
     },
     "output_type": "display_data"
    }
   ],
   "source": [
    "model_eval('MultinomialNB with CountVectorizer', gs_nb_cvec, X_test['review_lem'], y_test, gs_nb_cvec_y_preds)"
   ]
  },
  {
   "cell_type": "markdown",
   "metadata": {},
   "source": [
    "The **MultinomialNB with CountVectorizer** has a train accuracy of 0.84 and **test accuracy of 0.87**. Recall and ROC AUC score are at 0.86 and 0.93 respectively."
   ]
  },
  {
   "cell_type": "code",
   "execution_count": 29,
   "metadata": {},
   "outputs": [],
   "source": [
    "nb_cvec_coef = pd.DataFrame(gs_nb_cvec.best_estimator_.named_steps['cvec'].get_feature_names(), columns=['word'])\n",
    "nb_cvec_coef['exp_coef'] = np.exp(gs_nb_cvec.best_estimator_.named_steps['nb'].coef_[0])"
   ]
  },
  {
   "cell_type": "code",
   "execution_count": 30,
   "metadata": {},
   "outputs": [
    {
     "data": {
      "image/png": "[encoded data removed]",
      "text/plain": [
       "<Figure size 864x432 with 1 Axes>"
      ]
     },
     "metadata": {
      "needs_background": "light"
     },
     "output_type": "display_data"
    }
   ],
   "source": [
    "nb_cvec_coef.sort_values(by='exp_coef').tail(10).plot(x='word', y='exp_coef', kind='barh', figsize=(12, 6), legend=None, color='lightpink')\n",
    "plt.title(\"MultinomialNB with CountVectorizer's Top 10 Most Predictive Words for Negative Reviews\", size=15, y=1.01)\n",
    "plt.ylabel('Word', size=12)\n",
    "plt.yticks(size=14)\n",
    "plt.tight_layout();"
   ]
  },
  {
   "cell_type": "code",
   "execution_count": 31,
   "metadata": {},
   "outputs": [
    {
     "data": {
      "image/png": "[encoded data removed]",
      "text/plain": [
       "<Figure size 864x432 with 1 Axes>"
      ]
     },
     "metadata": {
      "needs_background": "light"
     },
     "output_type": "display_data"
    }
   ],
   "source": [
    "nb_cvec_coef.sort_values(by='exp_coef').head(10).plot(x='word', y='exp_coef', kind='barh', figsize=(12, 6), legend=None, color='mediumaquamarine')\n",
    "plt.title(\"MultinomialNB with CountVectorizer's Top 10 Most Predictive Words for Positive Reviews\", size=15, y=1.01)\n",
    "plt.ylabel('Word', size=12)\n",
    "plt.yticks(size=14)\n",
    "plt.tight_layout();"
   ]
  },
  {
   "cell_type": "markdown",
   "metadata": {},
   "source": [
    "In the **MultinomialNB with CountVectorizer**, the top predictive words are:\n",
    "\n",
    "* For negative reviews: **'item', 'time' and 'delivery'**\n",
    "* For positive reviews: **'good job', 'thank much', and 'there'**"
   ]
  },
  {
   "cell_type": "markdown",
   "metadata": {},
   "source": [
    "## Model 2b: MultinomialNB with TfidfVectorizer"
   ]
  },
  {
   "cell_type": "code",
   "execution_count": 32,
   "metadata": {},
   "outputs": [
    {
     "data": {
      "text/plain": [
       "0.8451900393184797"
      ]
     },
     "execution_count": 32,
     "metadata": {},
     "output_type": "execute_result"
    }
   ],
   "source": [
    "# set up pipeline\n",
    "pipe_nb_tvec = Pipeline([\n",
    "    ('tvec', TfidfVectorizer()),\n",
    "    ('nb', MultinomialNB())\n",
    "])\n",
    "\n",
    "# cross validation using training data\n",
    "cross_val_score(pipe_nb_tvec, X_train['review_lem'], y_train, cv=5).mean()"
   ]
  },
  {
   "cell_type": "code",
   "execution_count": 33,
   "metadata": {
    "scrolled": false
   },
   "outputs": [
    {
     "data": {
      "text/plain": [
       "{'memory': None,\n",
       " 'steps': [('tvec', TfidfVectorizer()), ('nb', MultinomialNB())],\n",
       " 'verbose': False,\n",
       " 'tvec': TfidfVectorizer(),\n",
       " 'nb': MultinomialNB(),\n",
       " 'tvec__analyzer': 'word',\n",
       " 'tvec__binary': False,\n",
       " 'tvec__decode_error': 'strict',\n",
       " 'tvec__dtype': numpy.float64,\n",
       " 'tvec__encoding': 'utf-8',\n",
       " 'tvec__input': 'content',\n",
       " 'tvec__lowercase': True,\n",
       " 'tvec__max_df': 1.0,\n",
       " 'tvec__max_features': None,\n",
       " 'tvec__min_df': 1,\n",
       " 'tvec__ngram_range': (1, 1),\n",
       " 'tvec__norm': 'l2',\n",
       " 'tvec__preprocessor': None,\n",
       " 'tvec__smooth_idf': True,\n",
       " 'tvec__stop_words': None,\n",
       " 'tvec__strip_accents': None,\n",
       " 'tvec__sublinear_tf': False,\n",
       " 'tvec__token_pattern': '(?u)\\\\b\\\\w\\\\w+\\\\b',\n",
       " 'tvec__tokenizer': None,\n",
       " 'tvec__use_idf': True,\n",
       " 'tvec__vocabulary': None,\n",
       " 'nb__alpha': 1.0,\n",
       " 'nb__class_prior': None,\n",
       " 'nb__fit_prior': True}"
      ]
     },
     "execution_count": 33,
     "metadata": {},
     "output_type": "execute_result"
    }
   ],
   "source": [
    "pipe_nb_tvec.get_params()"
   ]
  },
  {
   "cell_type": "code",
   "execution_count": 34,
   "metadata": {},
   "outputs": [],
   "source": [
    "# set up parameters for gridsearch\n",
    "pipe_nb_tvec_params = {\n",
    "    'tvec__max_features': [3000],  # tried [2000, 3000, 4000, 5000]\n",
    "    'tvec__min_df': [1],           # tried [1, 2]\n",
    "    'tvec__max_df': [0.9],         # tried [0.9, 0.95, 1.0]\n",
    "    'tvec__ngram_range': [(1,2)],  # tried [(1, 1), (1,2), (2,2)]\n",
    "    'nb__alpha': [1.0]             # tried [1.0, 1e-1, 1e-2]\n",
    "}\n",
    "\n",
    "# instantiate gridsearch\n",
    "gs_nb_tvec = GridSearchCV(pipe_nb_tvec, param_grid = pipe_nb_tvec_params, cv=5)\n",
    "\n",
    "# fit gridsearch model\n",
    "gs_nb_tvec.fit(X_train['review_lem'], y_train)\n",
    "\n",
    "# generate predictions\n",
    "gs_nb_tvec_y_preds = gs_nb_tvec.best_estimator_.predict(X_test['review_lem'])"
   ]
  },
  {
   "cell_type": "code",
   "execution_count": 35,
   "metadata": {},
   "outputs": [
    {
     "name": "stdout",
     "output_type": "stream",
     "text": [
      "Model           : MultinomialNB with TfidfVectorizer\n",
      "----------------------------------------------------------------\n",
      "best parameters : \n",
      "{'nb__alpha': 1.0, 'tvec__max_df': 0.9, 'tvec__max_features': 3000, 'tvec__min_df': 1, 'tvec__ngram_range': (1, 2)}\n",
      " \n",
      "train accuracy  :  0.85\n",
      " \n",
      "              precision    recall  f1-score   support\n",
      "\n",
      "           0       0.89      0.86      0.87       465\n",
      "           1       0.86      0.89      0.87       444\n",
      "\n",
      "    accuracy                           0.87       909\n",
      "   macro avg       0.87      0.87      0.87       909\n",
      "weighted avg       0.87      0.87      0.87       909\n",
      "\n"
     ]
    },
    {
     "data": {
      "image/png": "[encoded data removed]",
      "text/plain": [
       "<Figure size 432x288 with 2 Axes>"
      ]
     },
     "metadata": {
      "needs_background": "light"
     },
     "output_type": "display_data"
    },
    {
     "data": {
      "image/png": "[encoded data removed]",
      "text/plain": [
       "<Figure size 432x288 with 1 Axes>"
      ]
     },
     "metadata": {
      "needs_background": "light"
     },
     "output_type": "display_data"
    }
   ],
   "source": [
    "model_eval('MultinomialNB with TfidfVectorizer', gs_nb_tvec, X_test['review_lem'], y_test, gs_nb_tvec_y_preds)"
   ]
  },
  {
   "cell_type": "markdown",
   "metadata": {},
   "source": [
    "The **MultinomialNB with TfidfVectorizer** has a train accuracy of 0.85 and **test accuracy of 0.87**. Recall and ROC AUC score are high at 0.89 and 0.94 respectively."
   ]
  },
  {
   "cell_type": "code",
   "execution_count": 36,
   "metadata": {},
   "outputs": [],
   "source": [
    "nb_tvec_coef = pd.DataFrame(gs_nb_tvec.best_estimator_.named_steps['tvec'].get_feature_names(), columns=['word'])\n",
    "nb_tvec_coef['exp_coef'] = np.exp(gs_nb_tvec.best_estimator_.named_steps['nb'].coef_[0])"
   ]
  },
  {
   "cell_type": "code",
   "execution_count": 37,
   "metadata": {},
   "outputs": [
    {
     "data": {
      "image/png": "[encoded data removed]",
      "text/plain": [
       "<Figure size 864x432 with 1 Axes>"
      ]
     },
     "metadata": {
      "needs_background": "light"
     },
     "output_type": "display_data"
    }
   ],
   "source": [
    "nb_tvec_coef.sort_values(by='exp_coef').tail(10).plot(x='word', y='exp_coef', kind='barh', figsize=(12, 6), legend=None, color='lightpink')\n",
    "plt.title(\"MultinomialNB with TfidfVectorizer's Top 10 Most Predictive Words for Negative Reviews\", size=15, y=1.01)\n",
    "plt.ylabel('Word', size=12)\n",
    "plt.yticks(size=14)\n",
    "plt.tight_layout();"
   ]
  },
  {
   "cell_type": "code",
   "execution_count": 38,
   "metadata": {},
   "outputs": [
    {
     "data": {
      "image/png": "[encoded data removed]",
      "text/plain": [
       "<Figure size 864x432 with 1 Axes>"
      ]
     },
     "metadata": {
      "needs_background": "light"
     },
     "output_type": "display_data"
    }
   ],
   "source": [
    "nb_tvec_coef.sort_values(by='exp_coef').head(10).plot(x='word', y='exp_coef', kind='barh', figsize=(12, 6), legend=None, color='mediumaquamarine')\n",
    "plt.title(\"MultinomialNB with TfidfVectorizer's Top 10 Most Predictive Words for Positive Reviews\", size=15, y=1.01)\n",
    "plt.ylabel('Word', size=12)\n",
    "plt.yticks(size=14)\n",
    "plt.tight_layout();"
   ]
  },
  {
   "cell_type": "markdown",
   "metadata": {},
   "source": [
    "In the **MultinomialNB with TfidfVectorizer** model, the top predictive words are:\n",
    "\n",
    "* For negative reviews: **'item', 'slow' and 'time'**\n",
    "* For positive reviews: **'excellent', 'good work', and 'sold available'**"
   ]
  },
  {
   "cell_type": "markdown",
   "metadata": {},
   "source": [
    "## Model 3a: SVM with CountVectorizer"
   ]
  },
  {
   "cell_type": "code",
   "execution_count": 39,
   "metadata": {},
   "outputs": [
    {
     "data": {
      "text/plain": [
       "0.8327217125382264"
      ]
     },
     "execution_count": 39,
     "metadata": {},
     "output_type": "execute_result"
    }
   ],
   "source": [
    "# set up pipeline\n",
    "pipe_svm_cvec = Pipeline([\n",
    "    ('cvec', CountVectorizer()),\n",
    "    ('svm', SVC())\n",
    "])\n",
    "\n",
    "# cross validation using training data\n",
    "cross_val_score(pipe_svm_cvec, X_train['review_lem'], y_train, cv=5).mean()"
   ]
  },
  {
   "cell_type": "code",
   "execution_count": 40,
   "metadata": {
    "scrolled": false
   },
   "outputs": [
    {
     "data": {
      "text/plain": [
       "{'memory': None,\n",
       " 'steps': [('cvec', CountVectorizer()), ('svm', SVC())],\n",
       " 'verbose': False,\n",
       " 'cvec': CountVectorizer(),\n",
       " 'svm': SVC(),\n",
       " 'cvec__analyzer': 'word',\n",
       " 'cvec__binary': False,\n",
       " 'cvec__decode_error': 'strict',\n",
       " 'cvec__dtype': numpy.int64,\n",
       " 'cvec__encoding': 'utf-8',\n",
       " 'cvec__input': 'content',\n",
       " 'cvec__lowercase': True,\n",
       " 'cvec__max_df': 1.0,\n",
       " 'cvec__max_features': None,\n",
       " 'cvec__min_df': 1,\n",
       " 'cvec__ngram_range': (1, 1),\n",
       " 'cvec__preprocessor': None,\n",
       " 'cvec__stop_words': None,\n",
       " 'cvec__strip_accents': None,\n",
       " 'cvec__token_pattern': '(?u)\\\\b\\\\w\\\\w+\\\\b',\n",
       " 'cvec__tokenizer': None,\n",
       " 'cvec__vocabulary': None,\n",
       " 'svm__C': 1.0,\n",
       " 'svm__break_ties': False,\n",
       " 'svm__cache_size': 200,\n",
       " 'svm__class_weight': None,\n",
       " 'svm__coef0': 0.0,\n",
       " 'svm__decision_function_shape': 'ovr',\n",
       " 'svm__degree': 3,\n",
       " 'svm__gamma': 'scale',\n",
       " 'svm__kernel': 'rbf',\n",
       " 'svm__max_iter': -1,\n",
       " 'svm__probability': False,\n",
       " 'svm__random_state': None,\n",
       " 'svm__shrinking': True,\n",
       " 'svm__tol': 0.001,\n",
       " 'svm__verbose': False}"
      ]
     },
     "execution_count": 40,
     "metadata": {},
     "output_type": "execute_result"
    }
   ],
   "source": [
    "pipe_svm_cvec.get_params()"
   ]
  },
  {
   "cell_type": "code",
   "execution_count": 41,
   "metadata": {},
   "outputs": [],
   "source": [
    "# set up parameters for gridsearch\n",
    "pipe_svm_cvec_params = {\n",
    "    'cvec__max_features': [3000],   # tried [2000, 3000, 4000, 5000]\n",
    "    'cvec__min_df': [1],            # tried [1, 2]\n",
    "    'cvec__max_df': [0.9],          # tried [0.9, 0.95, 1.0]\n",
    "    'cvec__ngram_range': [(1, 1)],  # tried [(1,1), (1,2), (2,2)]\n",
    "    'svm__C': [1.0]                 # tried [1.0, 2.0]\n",
    "}\n",
    "\n",
    "# instantiate gridsearch\n",
    "gs_svm_cvec = GridSearchCV(pipe_svm_cvec, param_grid = pipe_svm_cvec_params, cv=5)\n",
    "\n",
    "# fit gridsearch model\n",
    "gs_svm_cvec.fit(X_train['review_lem'], y_train)\n",
    "\n",
    "# generate predictions\n",
    "gs_svm_cvec_y_preds = gs_svm_cvec.best_estimator_.predict(X_test['review_lem'])"
   ]
  },
  {
   "cell_type": "code",
   "execution_count": 42,
   "metadata": {},
   "outputs": [
    {
     "name": "stdout",
     "output_type": "stream",
     "text": [
      "Model           : SVM with CountVectorizer\n",
      "----------------------------------------------------------------\n",
      "best parameters : \n",
      "{'cvec__max_df': 0.9, 'cvec__max_features': 3000, 'cvec__min_df': 1, 'cvec__ngram_range': (1, 1), 'svm__C': 1.0}\n",
      " \n",
      "train accuracy  :  0.83\n",
      " \n",
      "              precision    recall  f1-score   support\n",
      "\n",
      "           0       0.85      0.84      0.85       465\n",
      "           1       0.83      0.85      0.84       444\n",
      "\n",
      "    accuracy                           0.84       909\n",
      "   macro avg       0.84      0.84      0.84       909\n",
      "weighted avg       0.84      0.84      0.84       909\n",
      "\n"
     ]
    },
    {
     "data": {
      "image/png": "[encoded data removed]",
      "text/plain": [
       "<Figure size 432x288 with 2 Axes>"
      ]
     },
     "metadata": {
      "needs_background": "light"
     },
     "output_type": "display_data"
    },
    {
     "data": {
      "image/png": "[encoded data removed]",
      "text/plain": [
       "<Figure size 432x288 with 1 Axes>"
      ]
     },
     "metadata": {
      "needs_background": "light"
     },
     "output_type": "display_data"
    }
   ],
   "source": [
    "model_eval('SVM with CountVectorizer', gs_svm_cvec, X_test['review_lem'], y_test, gs_svm_cvec_y_preds)"
   ]
  },
  {
   "cell_type": "markdown",
   "metadata": {},
   "source": [
    "The **Support Vector Machine with CountVectorizer** model performs relatively poorer with train accuracy of 0.83 and test accuracy of 0.84. Recall and ROC AUC score are also relatively lower at 0.85 and 0.93."
   ]
  },
  {
   "cell_type": "markdown",
   "metadata": {},
   "source": [
    "## Model 3a: SVM with TfidfVectorizer"
   ]
  },
  {
   "cell_type": "code",
   "execution_count": 43,
   "metadata": {},
   "outputs": [
    {
     "data": {
      "text/plain": [
       "0.8338192694155998"
      ]
     },
     "execution_count": 43,
     "metadata": {},
     "output_type": "execute_result"
    }
   ],
   "source": [
    "# set up pipeline\n",
    "pipe_svm_tvec = Pipeline([\n",
    "    ('tvec', TfidfVectorizer()),\n",
    "    ('svm', SVC())\n",
    "])\n",
    "\n",
    "# cross validation using training data\n",
    "cross_val_score(pipe_svm_tvec, X_train['review_lem'], y_train, cv=5).mean()"
   ]
  },
  {
   "cell_type": "code",
   "execution_count": 44,
   "metadata": {
    "scrolled": false
   },
   "outputs": [
    {
     "data": {
      "text/plain": [
       "{'memory': None,\n",
       " 'steps': [('tvec', TfidfVectorizer()), ('svm', SVC())],\n",
       " 'verbose': False,\n",
       " 'tvec': TfidfVectorizer(),\n",
       " 'svm': SVC(),\n",
       " 'tvec__analyzer': 'word',\n",
       " 'tvec__binary': False,\n",
       " 'tvec__decode_error': 'strict',\n",
       " 'tvec__dtype': numpy.float64,\n",
       " 'tvec__encoding': 'utf-8',\n",
       " 'tvec__input': 'content',\n",
       " 'tvec__lowercase': True,\n",
       " 'tvec__max_df': 1.0,\n",
       " 'tvec__max_features': None,\n",
       " 'tvec__min_df': 1,\n",
       " 'tvec__ngram_range': (1, 1),\n",
       " 'tvec__norm': 'l2',\n",
       " 'tvec__preprocessor': None,\n",
       " 'tvec__smooth_idf': True,\n",
       " 'tvec__stop_words': None,\n",
       " 'tvec__strip_accents': None,\n",
       " 'tvec__sublinear_tf': False,\n",
       " 'tvec__token_pattern': '(?u)\\\\b\\\\w\\\\w+\\\\b',\n",
       " 'tvec__tokenizer': None,\n",
       " 'tvec__use_idf': True,\n",
       " 'tvec__vocabulary': None,\n",
       " 'svm__C': 1.0,\n",
       " 'svm__break_ties': False,\n",
       " 'svm__cache_size': 200,\n",
       " 'svm__class_weight': None,\n",
       " 'svm__coef0': 0.0,\n",
       " 'svm__decision_function_shape': 'ovr',\n",
       " 'svm__degree': 3,\n",
       " 'svm__gamma': 'scale',\n",
       " 'svm__kernel': 'rbf',\n",
       " 'svm__max_iter': -1,\n",
       " 'svm__probability': False,\n",
       " 'svm__random_state': None,\n",
       " 'svm__shrinking': True,\n",
       " 'svm__tol': 0.001,\n",
       " 'svm__verbose': False}"
      ]
     },
     "execution_count": 44,
     "metadata": {},
     "output_type": "execute_result"
    }
   ],
   "source": [
    "pipe_svm_tvec.get_params()"
   ]
  },
  {
   "cell_type": "code",
   "execution_count": 45,
   "metadata": {},
   "outputs": [],
   "source": [
    "# set up parameters for gridsearch\n",
    "pipe_svm_tvec_params = {\n",
    "    'tvec__max_features': [3000],  # tried [2000, 3000, 4000, 5000]\n",
    "    'tvec__min_df': [2],           # tried [1, 2]\n",
    "    'tvec__max_df': [0.9],         # tried [0.9, 0.95, 1.0]\n",
    "    'tvec__ngram_range': [(1,2)],  # tried [(1, 1), (1,2), (2,2)]\n",
    "    'svm__C': [2.0]                # tried [1.0, 2.0]\n",
    "}\n",
    "\n",
    "# instantiate gridsearch\n",
    "gs_svm_tvec = GridSearchCV(pipe_svm_tvec, param_grid = pipe_svm_tvec_params, cv=5)\n",
    "\n",
    "# fit gridsearch model\n",
    "gs_svm_tvec.fit(X_train['review_lem'], y_train)\n",
    "\n",
    "# generate predictions\n",
    "gs_svm_tvec_y_preds = gs_svm_tvec.best_estimator_.predict(X_test['review_lem'])"
   ]
  },
  {
   "cell_type": "code",
   "execution_count": 46,
   "metadata": {},
   "outputs": [
    {
     "name": "stdout",
     "output_type": "stream",
     "text": [
      "Model           : SVM with TfidfVectorizer\n",
      "----------------------------------------------------------------\n",
      "best parameters : \n",
      "{'svm__C': 2.0, 'tvec__max_df': 0.9, 'tvec__max_features': 3000, 'tvec__min_df': 2, 'tvec__ngram_range': (1, 2)}\n",
      " \n",
      "train accuracy  :  0.85\n",
      " \n",
      "              precision    recall  f1-score   support\n",
      "\n",
      "           0       0.89      0.84      0.86       465\n",
      "           1       0.84      0.89      0.87       444\n",
      "\n",
      "    accuracy                           0.86       909\n",
      "   macro avg       0.87      0.87      0.86       909\n",
      "weighted avg       0.87      0.86      0.86       909\n",
      "\n"
     ]
    },
    {
     "data": {
      "image/png": "[encoded data removed]",
      "text/plain": [
       "<Figure size 432x288 with 2 Axes>"
      ]
     },
     "metadata": {
      "needs_background": "light"
     },
     "output_type": "display_data"
    },
    {
     "data": {
      "image/png": "[encoded data removed]",
      "text/plain": [
       "<Figure size 432x288 with 1 Axes>"
      ]
     },
     "metadata": {
      "needs_background": "light"
     },
     "output_type": "display_data"
    }
   ],
   "source": [
    "model_eval('SVM with TfidfVectorizer', gs_svm_tvec, X_test['review_lem'], y_test, gs_svm_tvec_y_preds)"
   ]
  },
  {
   "cell_type": "markdown",
   "metadata": {},
   "source": [
    "The **Support Vector Machine with TfidfVectorizer** model also perform relatively poorer vs. MultinomialNB with train accuracy of 0.85 and test accuracy of 0.86. Recall and ROC AUC score are at 0.89 and 0.92 respectively."
   ]
  },
  {
   "cell_type": "markdown",
   "metadata": {},
   "source": [
    "**Model Evaluation:**\n",
    "\n",
    "| Model | Train Accuracy | Test Accuracy | Recall | Precision | F1 Score | ROC AUC Score |\n",
    "|:--- |:---:|:---:|:---:|:---:|:---:|:---:|\n",
    "| Logistic Regression with CountVectorizer | 0.84 | 0.85 | 0.83 | 0.87 | 0.85 | 0.92 |\n",
    "| Logistic Regression with TfidfVectorizer | 0.85 | 0.87 | 0.89 | 0.85 | 0.87 | 0.93 |\n",
    "| MultinomialNB with CountVectorizer | 0.84 | 0.87 | 0.86 | 0.87 | 0.87 | 0.93 |\n",
    "| MultinomialNB with TfidfVectorizer | 0.85 | 0.87 | 0.89 | 0.86 | 0.87 | 0.94 |\n",
    "| Support Vector Machine with CountVectorizer | 0.83 | 0.84 | 0.85 | 0.83 | 0.84 | 0.93 |\n",
    "| Support Vector Machine with TfidfVectorizer | 0.85 | 0.86 | 0.89 | 0.84 | 0.87 | 0.92 |"
   ]
  },
  {
   "cell_type": "markdown",
   "metadata": {},
   "source": [
    "Based on the evaluation metrics:\n",
    "\n",
    "* Models with features extracted with **TfidfVectorizer** perform slightly better than those with CountVectorizer\n",
    "* Among the models with features extracted with TfidfVectorizer, the various models perform similarly, but **MutlinomialNB with TfidfVectorizer** performs the best in terms of test accuracy, recall and ROC AUC score, followed by **Logistic Regression with TfidfVectorizer**."
   ]
  },
  {
   "cell_type": "markdown",
   "metadata": {},
   "source": [
    "## 2.2 Classical Machine Learning (Text Reviews & VADER Positive Score as Features)"
   ]
  },
  {
   "cell_type": "markdown",
   "metadata": {},
   "source": [
    "As seen in the EDA, the VADER positive score seems to be correlated to the positive and negative reviews. Let's try to see if using it as a predicter will improve the model performance of the MultinomialNB with TfidfVectorizer model."
   ]
  },
  {
   "cell_type": "markdown",
   "metadata": {},
   "source": [
    "First, feature extraction is done using TfidfVectorizer based on the best parameter from earlier gridsearch."
   ]
  },
  {
   "cell_type": "code",
   "execution_count": 47,
   "metadata": {
    "scrolled": true
   },
   "outputs": [
    {
     "data": {
      "text/plain": [
       "{'nb__alpha': 1.0,\n",
       " 'tvec__max_df': 0.9,\n",
       " 'tvec__max_features': 3000,\n",
       " 'tvec__min_df': 1,\n",
       " 'tvec__ngram_range': (1, 2)}"
      ]
     },
     "execution_count": 47,
     "metadata": {},
     "output_type": "execute_result"
    }
   ],
   "source": [
    "gs_nb_tvec.best_params_"
   ]
  },
  {
   "cell_type": "code",
   "execution_count": 48,
   "metadata": {},
   "outputs": [],
   "source": [
    "tvec = TfidfVectorizer(max_features=3000, max_df = 0.9, min_df = 1, ngram_range=(1,2))"
   ]
  },
  {
   "cell_type": "code",
   "execution_count": 49,
   "metadata": {},
   "outputs": [],
   "source": [
    "X_train_tvec = tvec.fit_transform(X_train['review_lem'])\n",
    "X_test_tvec = tvec.transform(X_test['review_lem'])"
   ]
  },
  {
   "cell_type": "code",
   "execution_count": 50,
   "metadata": {},
   "outputs": [
    {
     "data": {
      "text/html": [
       "<div>\n",
       "<style scoped>\n",
       "    .dataframe tbody tr th:only-of-type {\n",
       "        vertical-align: middle;\n",
       "    }\n",
       "\n",
       "    .dataframe tbody tr th {\n",
       "        vertical-align: top;\n",
       "    }\n",
       "\n",
       "    .dataframe thead th {\n",
       "        text-align: right;\n",
       "    }\n",
       "</style>\n",
       "<table border=\"1\" class=\"dataframe\">\n",
       "  <thead>\n",
       "    <tr style=\"text-align: right;\">\n",
       "      <th></th>\n",
       "      <th>abit</th>\n",
       "      <th>abit slow</th>\n",
       "      <th>able</th>\n",
       "      <th>able get</th>\n",
       "      <th>able make</th>\n",
       "      <th>able order</th>\n",
       "      <th>able use</th>\n",
       "      <th>absolutely</th>\n",
       "      <th>accept</th>\n",
       "      <th>acceptable</th>\n",
       "      <th>...</th>\n",
       "      <th>wrong item</th>\n",
       "      <th>wrongly</th>\n",
       "      <th>year</th>\n",
       "      <th>year still</th>\n",
       "      <th>yesterday</th>\n",
       "      <th>yet</th>\n",
       "      <th>young</th>\n",
       "      <th>yr</th>\n",
       "      <th>zero</th>\n",
       "      <th>zoom</th>\n",
       "    </tr>\n",
       "  </thead>\n",
       "  <tbody>\n",
       "    <tr>\n",
       "      <th>0</th>\n",
       "      <td>0.0</td>\n",
       "      <td>0.0</td>\n",
       "      <td>0.0</td>\n",
       "      <td>0.0</td>\n",
       "      <td>0.0</td>\n",
       "      <td>0.0</td>\n",
       "      <td>0.0</td>\n",
       "      <td>0.0</td>\n",
       "      <td>0.0</td>\n",
       "      <td>0.0</td>\n",
       "      <td>...</td>\n",
       "      <td>0.0</td>\n",
       "      <td>0.0</td>\n",
       "      <td>0.0</td>\n",
       "      <td>0.0</td>\n",
       "      <td>0.0</td>\n",
       "      <td>0.0</td>\n",
       "      <td>0.0</td>\n",
       "      <td>0.0</td>\n",
       "      <td>0.0</td>\n",
       "      <td>0.0</td>\n",
       "    </tr>\n",
       "    <tr>\n",
       "      <th>1</th>\n",
       "      <td>0.0</td>\n",
       "      <td>0.0</td>\n",
       "      <td>0.0</td>\n",
       "      <td>0.0</td>\n",
       "      <td>0.0</td>\n",
       "      <td>0.0</td>\n",
       "      <td>0.0</td>\n",
       "      <td>0.0</td>\n",
       "      <td>0.0</td>\n",
       "      <td>0.0</td>\n",
       "      <td>...</td>\n",
       "      <td>0.0</td>\n",
       "      <td>0.0</td>\n",
       "      <td>0.0</td>\n",
       "      <td>0.0</td>\n",
       "      <td>0.0</td>\n",
       "      <td>0.0</td>\n",
       "      <td>0.0</td>\n",
       "      <td>0.0</td>\n",
       "      <td>0.0</td>\n",
       "      <td>0.0</td>\n",
       "    </tr>\n",
       "    <tr>\n",
       "      <th>2</th>\n",
       "      <td>0.0</td>\n",
       "      <td>0.0</td>\n",
       "      <td>0.0</td>\n",
       "      <td>0.0</td>\n",
       "      <td>0.0</td>\n",
       "      <td>0.0</td>\n",
       "      <td>0.0</td>\n",
       "      <td>0.0</td>\n",
       "      <td>0.0</td>\n",
       "      <td>0.0</td>\n",
       "      <td>...</td>\n",
       "      <td>0.0</td>\n",
       "      <td>0.0</td>\n",
       "      <td>0.0</td>\n",
       "      <td>0.0</td>\n",
       "      <td>0.0</td>\n",
       "      <td>0.0</td>\n",
       "      <td>0.0</td>\n",
       "      <td>0.0</td>\n",
       "      <td>0.0</td>\n",
       "      <td>0.0</td>\n",
       "    </tr>\n",
       "    <tr>\n",
       "      <th>3</th>\n",
       "      <td>0.0</td>\n",
       "      <td>0.0</td>\n",
       "      <td>0.0</td>\n",
       "      <td>0.0</td>\n",
       "      <td>0.0</td>\n",
       "      <td>0.0</td>\n",
       "      <td>0.0</td>\n",
       "      <td>0.0</td>\n",
       "      <td>0.0</td>\n",
       "      <td>0.0</td>\n",
       "      <td>...</td>\n",
       "      <td>0.0</td>\n",
       "      <td>0.0</td>\n",
       "      <td>0.0</td>\n",
       "      <td>0.0</td>\n",
       "      <td>0.0</td>\n",
       "      <td>0.0</td>\n",
       "      <td>0.0</td>\n",
       "      <td>0.0</td>\n",
       "      <td>0.0</td>\n",
       "      <td>0.0</td>\n",
       "    </tr>\n",
       "    <tr>\n",
       "      <th>4</th>\n",
       "      <td>0.0</td>\n",
       "      <td>0.0</td>\n",
       "      <td>0.0</td>\n",
       "      <td>0.0</td>\n",
       "      <td>0.0</td>\n",
       "      <td>0.0</td>\n",
       "      <td>0.0</td>\n",
       "      <td>0.0</td>\n",
       "      <td>0.0</td>\n",
       "      <td>0.0</td>\n",
       "      <td>...</td>\n",
       "      <td>0.0</td>\n",
       "      <td>0.0</td>\n",
       "      <td>0.0</td>\n",
       "      <td>0.0</td>\n",
       "      <td>0.0</td>\n",
       "      <td>0.0</td>\n",
       "      <td>0.0</td>\n",
       "      <td>0.0</td>\n",
       "      <td>0.0</td>\n",
       "      <td>0.0</td>\n",
       "    </tr>\n",
       "  </tbody>\n",
       "</table>\n",
       "<p>5 rows × 3000 columns</p>\n",
       "</div>"
      ],
      "text/plain": [
       "   abit  abit slow  able  able get  able make  able order  able use  \\\n",
       "0   0.0        0.0   0.0       0.0        0.0         0.0       0.0   \n",
       "1   0.0        0.0   0.0       0.0        0.0         0.0       0.0   \n",
       "2   0.0        0.0   0.0       0.0        0.0         0.0       0.0   \n",
       "3   0.0        0.0   0.0       0.0        0.0         0.0       0.0   \n",
       "4   0.0        0.0   0.0       0.0        0.0         0.0       0.0   \n",
       "\n",
       "   absolutely  accept  acceptable  ...  wrong item  wrongly  year  year still  \\\n",
       "0         0.0     0.0         0.0  ...         0.0      0.0   0.0         0.0   \n",
       "1         0.0     0.0         0.0  ...         0.0      0.0   0.0         0.0   \n",
       "2         0.0     0.0         0.0  ...         0.0      0.0   0.0         0.0   \n",
       "3         0.0     0.0         0.0  ...         0.0      0.0   0.0         0.0   \n",
       "4         0.0     0.0         0.0  ...         0.0      0.0   0.0         0.0   \n",
       "\n",
       "   yesterday  yet  young   yr  zero  zoom  \n",
       "0        0.0  0.0    0.0  0.0   0.0   0.0  \n",
       "1        0.0  0.0    0.0  0.0   0.0   0.0  \n",
       "2        0.0  0.0    0.0  0.0   0.0   0.0  \n",
       "3        0.0  0.0    0.0  0.0   0.0   0.0  \n",
       "4        0.0  0.0    0.0  0.0   0.0   0.0  \n",
       "\n",
       "[5 rows x 3000 columns]"
      ]
     },
     "execution_count": 50,
     "metadata": {},
     "output_type": "execute_result"
    }
   ],
   "source": [
    "X_train_tvec_df = pd.DataFrame(X_train_tvec.toarray(), columns=tvec.get_feature_names())\n",
    "X_train_tvec_df.head()"
   ]
  },
  {
   "cell_type": "code",
   "execution_count": 51,
   "metadata": {},
   "outputs": [
    {
     "data": {
      "text/html": [
       "<div>\n",
       "<style scoped>\n",
       "    .dataframe tbody tr th:only-of-type {\n",
       "        vertical-align: middle;\n",
       "    }\n",
       "\n",
       "    .dataframe tbody tr th {\n",
       "        vertical-align: top;\n",
       "    }\n",
       "\n",
       "    .dataframe thead th {\n",
       "        text-align: right;\n",
       "    }\n",
       "</style>\n",
       "<table border=\"1\" class=\"dataframe\">\n",
       "  <thead>\n",
       "    <tr style=\"text-align: right;\">\n",
       "      <th></th>\n",
       "      <th>abit</th>\n",
       "      <th>abit slow</th>\n",
       "      <th>able</th>\n",
       "      <th>able get</th>\n",
       "      <th>able make</th>\n",
       "      <th>able order</th>\n",
       "      <th>able use</th>\n",
       "      <th>absolutely</th>\n",
       "      <th>accept</th>\n",
       "      <th>acceptable</th>\n",
       "      <th>...</th>\n",
       "      <th>wrong item</th>\n",
       "      <th>wrongly</th>\n",
       "      <th>year</th>\n",
       "      <th>year still</th>\n",
       "      <th>yesterday</th>\n",
       "      <th>yet</th>\n",
       "      <th>young</th>\n",
       "      <th>yr</th>\n",
       "      <th>zero</th>\n",
       "      <th>zoom</th>\n",
       "    </tr>\n",
       "  </thead>\n",
       "  <tbody>\n",
       "    <tr>\n",
       "      <th>0</th>\n",
       "      <td>0.0</td>\n",
       "      <td>0.0</td>\n",
       "      <td>0.0</td>\n",
       "      <td>0.0</td>\n",
       "      <td>0.0</td>\n",
       "      <td>0.0</td>\n",
       "      <td>0.0</td>\n",
       "      <td>0.0</td>\n",
       "      <td>0.0</td>\n",
       "      <td>0.0</td>\n",
       "      <td>...</td>\n",
       "      <td>0.0</td>\n",
       "      <td>0.0</td>\n",
       "      <td>0.0</td>\n",
       "      <td>0.0</td>\n",
       "      <td>0.0</td>\n",
       "      <td>0.0</td>\n",
       "      <td>0.0</td>\n",
       "      <td>0.0</td>\n",
       "      <td>0.000000</td>\n",
       "      <td>0.0</td>\n",
       "    </tr>\n",
       "    <tr>\n",
       "      <th>1</th>\n",
       "      <td>0.0</td>\n",
       "      <td>0.0</td>\n",
       "      <td>0.0</td>\n",
       "      <td>0.0</td>\n",
       "      <td>0.0</td>\n",
       "      <td>0.0</td>\n",
       "      <td>0.0</td>\n",
       "      <td>0.0</td>\n",
       "      <td>0.0</td>\n",
       "      <td>0.0</td>\n",
       "      <td>...</td>\n",
       "      <td>0.0</td>\n",
       "      <td>0.0</td>\n",
       "      <td>0.0</td>\n",
       "      <td>0.0</td>\n",
       "      <td>0.0</td>\n",
       "      <td>0.0</td>\n",
       "      <td>0.0</td>\n",
       "      <td>0.0</td>\n",
       "      <td>0.000000</td>\n",
       "      <td>0.0</td>\n",
       "    </tr>\n",
       "    <tr>\n",
       "      <th>2</th>\n",
       "      <td>0.0</td>\n",
       "      <td>0.0</td>\n",
       "      <td>0.0</td>\n",
       "      <td>0.0</td>\n",
       "      <td>0.0</td>\n",
       "      <td>0.0</td>\n",
       "      <td>0.0</td>\n",
       "      <td>0.0</td>\n",
       "      <td>0.0</td>\n",
       "      <td>0.0</td>\n",
       "      <td>...</td>\n",
       "      <td>0.0</td>\n",
       "      <td>0.0</td>\n",
       "      <td>0.0</td>\n",
       "      <td>0.0</td>\n",
       "      <td>0.0</td>\n",
       "      <td>0.0</td>\n",
       "      <td>0.0</td>\n",
       "      <td>0.0</td>\n",
       "      <td>0.000000</td>\n",
       "      <td>0.0</td>\n",
       "    </tr>\n",
       "    <tr>\n",
       "      <th>3</th>\n",
       "      <td>0.0</td>\n",
       "      <td>0.0</td>\n",
       "      <td>0.0</td>\n",
       "      <td>0.0</td>\n",
       "      <td>0.0</td>\n",
       "      <td>0.0</td>\n",
       "      <td>0.0</td>\n",
       "      <td>0.0</td>\n",
       "      <td>0.0</td>\n",
       "      <td>0.0</td>\n",
       "      <td>...</td>\n",
       "      <td>0.0</td>\n",
       "      <td>0.0</td>\n",
       "      <td>0.0</td>\n",
       "      <td>0.0</td>\n",
       "      <td>0.0</td>\n",
       "      <td>0.0</td>\n",
       "      <td>0.0</td>\n",
       "      <td>0.0</td>\n",
       "      <td>0.000000</td>\n",
       "      <td>0.0</td>\n",
       "    </tr>\n",
       "    <tr>\n",
       "      <th>4</th>\n",
       "      <td>0.0</td>\n",
       "      <td>0.0</td>\n",
       "      <td>0.0</td>\n",
       "      <td>0.0</td>\n",
       "      <td>0.0</td>\n",
       "      <td>0.0</td>\n",
       "      <td>0.0</td>\n",
       "      <td>0.0</td>\n",
       "      <td>0.0</td>\n",
       "      <td>0.0</td>\n",
       "      <td>...</td>\n",
       "      <td>0.0</td>\n",
       "      <td>0.0</td>\n",
       "      <td>0.0</td>\n",
       "      <td>0.0</td>\n",
       "      <td>0.0</td>\n",
       "      <td>0.0</td>\n",
       "      <td>0.0</td>\n",
       "      <td>0.0</td>\n",
       "      <td>0.204812</td>\n",
       "      <td>0.0</td>\n",
       "    </tr>\n",
       "  </tbody>\n",
       "</table>\n",
       "<p>5 rows × 3000 columns</p>\n",
       "</div>"
      ],
      "text/plain": [
       "   abit  abit slow  able  able get  able make  able order  able use  \\\n",
       "0   0.0        0.0   0.0       0.0        0.0         0.0       0.0   \n",
       "1   0.0        0.0   0.0       0.0        0.0         0.0       0.0   \n",
       "2   0.0        0.0   0.0       0.0        0.0         0.0       0.0   \n",
       "3   0.0        0.0   0.0       0.0        0.0         0.0       0.0   \n",
       "4   0.0        0.0   0.0       0.0        0.0         0.0       0.0   \n",
       "\n",
       "   absolutely  accept  acceptable  ...  wrong item  wrongly  year  year still  \\\n",
       "0         0.0     0.0         0.0  ...         0.0      0.0   0.0         0.0   \n",
       "1         0.0     0.0         0.0  ...         0.0      0.0   0.0         0.0   \n",
       "2         0.0     0.0         0.0  ...         0.0      0.0   0.0         0.0   \n",
       "3         0.0     0.0         0.0  ...         0.0      0.0   0.0         0.0   \n",
       "4         0.0     0.0         0.0  ...         0.0      0.0   0.0         0.0   \n",
       "\n",
       "   yesterday  yet  young   yr      zero  zoom  \n",
       "0        0.0  0.0    0.0  0.0  0.000000   0.0  \n",
       "1        0.0  0.0    0.0  0.0  0.000000   0.0  \n",
       "2        0.0  0.0    0.0  0.0  0.000000   0.0  \n",
       "3        0.0  0.0    0.0  0.0  0.000000   0.0  \n",
       "4        0.0  0.0    0.0  0.0  0.204812   0.0  \n",
       "\n",
       "[5 rows x 3000 columns]"
      ]
     },
     "execution_count": 51,
     "metadata": {},
     "output_type": "execute_result"
    }
   ],
   "source": [
    "X_test_tvec_df = pd.DataFrame(X_test_tvec.toarray(), columns=tvec.get_feature_names())\n",
    "X_test_tvec_df.head()"
   ]
  },
  {
   "cell_type": "markdown",
   "metadata": {},
   "source": [
    "Next, the VADER positive score is added as an additional feature."
   ]
  },
  {
   "cell_type": "code",
   "execution_count": 52,
   "metadata": {},
   "outputs": [
    {
     "data": {
      "text/html": [
       "<div>\n",
       "<style scoped>\n",
       "    .dataframe tbody tr th:only-of-type {\n",
       "        vertical-align: middle;\n",
       "    }\n",
       "\n",
       "    .dataframe tbody tr th {\n",
       "        vertical-align: top;\n",
       "    }\n",
       "\n",
       "    .dataframe thead th {\n",
       "        text-align: right;\n",
       "    }\n",
       "</style>\n",
       "<table border=\"1\" class=\"dataframe\">\n",
       "  <thead>\n",
       "    <tr style=\"text-align: right;\">\n",
       "      <th></th>\n",
       "      <th>abit</th>\n",
       "      <th>abit slow</th>\n",
       "      <th>able</th>\n",
       "      <th>able get</th>\n",
       "      <th>able make</th>\n",
       "      <th>able order</th>\n",
       "      <th>able use</th>\n",
       "      <th>absolutely</th>\n",
       "      <th>accept</th>\n",
       "      <th>acceptable</th>\n",
       "      <th>...</th>\n",
       "      <th>wrongly</th>\n",
       "      <th>year</th>\n",
       "      <th>year still</th>\n",
       "      <th>yesterday</th>\n",
       "      <th>yet</th>\n",
       "      <th>young</th>\n",
       "      <th>yr</th>\n",
       "      <th>zero</th>\n",
       "      <th>zoom</th>\n",
       "      <th>pos_score</th>\n",
       "    </tr>\n",
       "  </thead>\n",
       "  <tbody>\n",
       "    <tr>\n",
       "      <th>0</th>\n",
       "      <td>0.0</td>\n",
       "      <td>0.0</td>\n",
       "      <td>0.0</td>\n",
       "      <td>0.0</td>\n",
       "      <td>0.0</td>\n",
       "      <td>0.0</td>\n",
       "      <td>0.0</td>\n",
       "      <td>0.0</td>\n",
       "      <td>0.0</td>\n",
       "      <td>0.0</td>\n",
       "      <td>...</td>\n",
       "      <td>0.0</td>\n",
       "      <td>0.0</td>\n",
       "      <td>0.0</td>\n",
       "      <td>0.0</td>\n",
       "      <td>0.0</td>\n",
       "      <td>0.0</td>\n",
       "      <td>0.0</td>\n",
       "      <td>0.0</td>\n",
       "      <td>0.0</td>\n",
       "      <td>0.615</td>\n",
       "    </tr>\n",
       "    <tr>\n",
       "      <th>1</th>\n",
       "      <td>0.0</td>\n",
       "      <td>0.0</td>\n",
       "      <td>0.0</td>\n",
       "      <td>0.0</td>\n",
       "      <td>0.0</td>\n",
       "      <td>0.0</td>\n",
       "      <td>0.0</td>\n",
       "      <td>0.0</td>\n",
       "      <td>0.0</td>\n",
       "      <td>0.0</td>\n",
       "      <td>...</td>\n",
       "      <td>0.0</td>\n",
       "      <td>0.0</td>\n",
       "      <td>0.0</td>\n",
       "      <td>0.0</td>\n",
       "      <td>0.0</td>\n",
       "      <td>0.0</td>\n",
       "      <td>0.0</td>\n",
       "      <td>0.0</td>\n",
       "      <td>0.0</td>\n",
       "      <td>1.000</td>\n",
       "    </tr>\n",
       "    <tr>\n",
       "      <th>2</th>\n",
       "      <td>0.0</td>\n",
       "      <td>0.0</td>\n",
       "      <td>0.0</td>\n",
       "      <td>0.0</td>\n",
       "      <td>0.0</td>\n",
       "      <td>0.0</td>\n",
       "      <td>0.0</td>\n",
       "      <td>0.0</td>\n",
       "      <td>0.0</td>\n",
       "      <td>0.0</td>\n",
       "      <td>...</td>\n",
       "      <td>0.0</td>\n",
       "      <td>0.0</td>\n",
       "      <td>0.0</td>\n",
       "      <td>0.0</td>\n",
       "      <td>0.0</td>\n",
       "      <td>0.0</td>\n",
       "      <td>0.0</td>\n",
       "      <td>0.0</td>\n",
       "      <td>0.0</td>\n",
       "      <td>0.000</td>\n",
       "    </tr>\n",
       "    <tr>\n",
       "      <th>3</th>\n",
       "      <td>0.0</td>\n",
       "      <td>0.0</td>\n",
       "      <td>0.0</td>\n",
       "      <td>0.0</td>\n",
       "      <td>0.0</td>\n",
       "      <td>0.0</td>\n",
       "      <td>0.0</td>\n",
       "      <td>0.0</td>\n",
       "      <td>0.0</td>\n",
       "      <td>0.0</td>\n",
       "      <td>...</td>\n",
       "      <td>0.0</td>\n",
       "      <td>0.0</td>\n",
       "      <td>0.0</td>\n",
       "      <td>0.0</td>\n",
       "      <td>0.0</td>\n",
       "      <td>0.0</td>\n",
       "      <td>0.0</td>\n",
       "      <td>0.0</td>\n",
       "      <td>0.0</td>\n",
       "      <td>1.000</td>\n",
       "    </tr>\n",
       "    <tr>\n",
       "      <th>4</th>\n",
       "      <td>0.0</td>\n",
       "      <td>0.0</td>\n",
       "      <td>0.0</td>\n",
       "      <td>0.0</td>\n",
       "      <td>0.0</td>\n",
       "      <td>0.0</td>\n",
       "      <td>0.0</td>\n",
       "      <td>0.0</td>\n",
       "      <td>0.0</td>\n",
       "      <td>0.0</td>\n",
       "      <td>...</td>\n",
       "      <td>0.0</td>\n",
       "      <td>0.0</td>\n",
       "      <td>0.0</td>\n",
       "      <td>0.0</td>\n",
       "      <td>0.0</td>\n",
       "      <td>0.0</td>\n",
       "      <td>0.0</td>\n",
       "      <td>0.0</td>\n",
       "      <td>0.0</td>\n",
       "      <td>0.000</td>\n",
       "    </tr>\n",
       "  </tbody>\n",
       "</table>\n",
       "<p>5 rows × 3001 columns</p>\n",
       "</div>"
      ],
      "text/plain": [
       "   abit  abit slow  able  able get  able make  able order  able use  \\\n",
       "0   0.0        0.0   0.0       0.0        0.0         0.0       0.0   \n",
       "1   0.0        0.0   0.0       0.0        0.0         0.0       0.0   \n",
       "2   0.0        0.0   0.0       0.0        0.0         0.0       0.0   \n",
       "3   0.0        0.0   0.0       0.0        0.0         0.0       0.0   \n",
       "4   0.0        0.0   0.0       0.0        0.0         0.0       0.0   \n",
       "\n",
       "   absolutely  accept  acceptable  ...  wrongly  year  year still  yesterday  \\\n",
       "0         0.0     0.0         0.0  ...      0.0   0.0         0.0        0.0   \n",
       "1         0.0     0.0         0.0  ...      0.0   0.0         0.0        0.0   \n",
       "2         0.0     0.0         0.0  ...      0.0   0.0         0.0        0.0   \n",
       "3         0.0     0.0         0.0  ...      0.0   0.0         0.0        0.0   \n",
       "4         0.0     0.0         0.0  ...      0.0   0.0         0.0        0.0   \n",
       "\n",
       "   yet  young   yr  zero  zoom  pos_score  \n",
       "0  0.0    0.0  0.0   0.0   0.0      0.615  \n",
       "1  0.0    0.0  0.0   0.0   0.0      1.000  \n",
       "2  0.0    0.0  0.0   0.0   0.0      0.000  \n",
       "3  0.0    0.0  0.0   0.0   0.0      1.000  \n",
       "4  0.0    0.0  0.0   0.0   0.0      0.000  \n",
       "\n",
       "[5 rows x 3001 columns]"
      ]
     },
     "execution_count": 52,
     "metadata": {},
     "output_type": "execute_result"
    }
   ],
   "source": [
    "X_train.reset_index(inplace=True, drop=True)\n",
    "X_train_tvec_df['pos_score'] = X_train['pos_score']\n",
    "X_train_tvec_df.head()"
   ]
  },
  {
   "cell_type": "code",
   "execution_count": 53,
   "metadata": {},
   "outputs": [
    {
     "data": {
      "text/html": [
       "<div>\n",
       "<style scoped>\n",
       "    .dataframe tbody tr th:only-of-type {\n",
       "        vertical-align: middle;\n",
       "    }\n",
       "\n",
       "    .dataframe tbody tr th {\n",
       "        vertical-align: top;\n",
       "    }\n",
       "\n",
       "    .dataframe thead th {\n",
       "        text-align: right;\n",
       "    }\n",
       "</style>\n",
       "<table border=\"1\" class=\"dataframe\">\n",
       "  <thead>\n",
       "    <tr style=\"text-align: right;\">\n",
       "      <th></th>\n",
       "      <th>abit</th>\n",
       "      <th>abit slow</th>\n",
       "      <th>able</th>\n",
       "      <th>able get</th>\n",
       "      <th>able make</th>\n",
       "      <th>able order</th>\n",
       "      <th>able use</th>\n",
       "      <th>absolutely</th>\n",
       "      <th>accept</th>\n",
       "      <th>acceptable</th>\n",
       "      <th>...</th>\n",
       "      <th>wrongly</th>\n",
       "      <th>year</th>\n",
       "      <th>year still</th>\n",
       "      <th>yesterday</th>\n",
       "      <th>yet</th>\n",
       "      <th>young</th>\n",
       "      <th>yr</th>\n",
       "      <th>zero</th>\n",
       "      <th>zoom</th>\n",
       "      <th>pos_score</th>\n",
       "    </tr>\n",
       "  </thead>\n",
       "  <tbody>\n",
       "    <tr>\n",
       "      <th>0</th>\n",
       "      <td>0.0</td>\n",
       "      <td>0.0</td>\n",
       "      <td>0.0</td>\n",
       "      <td>0.0</td>\n",
       "      <td>0.0</td>\n",
       "      <td>0.0</td>\n",
       "      <td>0.0</td>\n",
       "      <td>0.0</td>\n",
       "      <td>0.0</td>\n",
       "      <td>0.0</td>\n",
       "      <td>...</td>\n",
       "      <td>0.0</td>\n",
       "      <td>0.0</td>\n",
       "      <td>0.0</td>\n",
       "      <td>0.0</td>\n",
       "      <td>0.0</td>\n",
       "      <td>0.0</td>\n",
       "      <td>0.0</td>\n",
       "      <td>0.000000</td>\n",
       "      <td>0.0</td>\n",
       "      <td>0.000</td>\n",
       "    </tr>\n",
       "    <tr>\n",
       "      <th>1</th>\n",
       "      <td>0.0</td>\n",
       "      <td>0.0</td>\n",
       "      <td>0.0</td>\n",
       "      <td>0.0</td>\n",
       "      <td>0.0</td>\n",
       "      <td>0.0</td>\n",
       "      <td>0.0</td>\n",
       "      <td>0.0</td>\n",
       "      <td>0.0</td>\n",
       "      <td>0.0</td>\n",
       "      <td>...</td>\n",
       "      <td>0.0</td>\n",
       "      <td>0.0</td>\n",
       "      <td>0.0</td>\n",
       "      <td>0.0</td>\n",
       "      <td>0.0</td>\n",
       "      <td>0.0</td>\n",
       "      <td>0.0</td>\n",
       "      <td>0.000000</td>\n",
       "      <td>0.0</td>\n",
       "      <td>1.000</td>\n",
       "    </tr>\n",
       "    <tr>\n",
       "      <th>2</th>\n",
       "      <td>0.0</td>\n",
       "      <td>0.0</td>\n",
       "      <td>0.0</td>\n",
       "      <td>0.0</td>\n",
       "      <td>0.0</td>\n",
       "      <td>0.0</td>\n",
       "      <td>0.0</td>\n",
       "      <td>0.0</td>\n",
       "      <td>0.0</td>\n",
       "      <td>0.0</td>\n",
       "      <td>...</td>\n",
       "      <td>0.0</td>\n",
       "      <td>0.0</td>\n",
       "      <td>0.0</td>\n",
       "      <td>0.0</td>\n",
       "      <td>0.0</td>\n",
       "      <td>0.0</td>\n",
       "      <td>0.0</td>\n",
       "      <td>0.000000</td>\n",
       "      <td>0.0</td>\n",
       "      <td>0.000</td>\n",
       "    </tr>\n",
       "    <tr>\n",
       "      <th>3</th>\n",
       "      <td>0.0</td>\n",
       "      <td>0.0</td>\n",
       "      <td>0.0</td>\n",
       "      <td>0.0</td>\n",
       "      <td>0.0</td>\n",
       "      <td>0.0</td>\n",
       "      <td>0.0</td>\n",
       "      <td>0.0</td>\n",
       "      <td>0.0</td>\n",
       "      <td>0.0</td>\n",
       "      <td>...</td>\n",
       "      <td>0.0</td>\n",
       "      <td>0.0</td>\n",
       "      <td>0.0</td>\n",
       "      <td>0.0</td>\n",
       "      <td>0.0</td>\n",
       "      <td>0.0</td>\n",
       "      <td>0.0</td>\n",
       "      <td>0.000000</td>\n",
       "      <td>0.0</td>\n",
       "      <td>0.000</td>\n",
       "    </tr>\n",
       "    <tr>\n",
       "      <th>4</th>\n",
       "      <td>0.0</td>\n",
       "      <td>0.0</td>\n",
       "      <td>0.0</td>\n",
       "      <td>0.0</td>\n",
       "      <td>0.0</td>\n",
       "      <td>0.0</td>\n",
       "      <td>0.0</td>\n",
       "      <td>0.0</td>\n",
       "      <td>0.0</td>\n",
       "      <td>0.0</td>\n",
       "      <td>...</td>\n",
       "      <td>0.0</td>\n",
       "      <td>0.0</td>\n",
       "      <td>0.0</td>\n",
       "      <td>0.0</td>\n",
       "      <td>0.0</td>\n",
       "      <td>0.0</td>\n",
       "      <td>0.0</td>\n",
       "      <td>0.204812</td>\n",
       "      <td>0.0</td>\n",
       "      <td>0.168</td>\n",
       "    </tr>\n",
       "  </tbody>\n",
       "</table>\n",
       "<p>5 rows × 3001 columns</p>\n",
       "</div>"
      ],
      "text/plain": [
       "   abit  abit slow  able  able get  able make  able order  able use  \\\n",
       "0   0.0        0.0   0.0       0.0        0.0         0.0       0.0   \n",
       "1   0.0        0.0   0.0       0.0        0.0         0.0       0.0   \n",
       "2   0.0        0.0   0.0       0.0        0.0         0.0       0.0   \n",
       "3   0.0        0.0   0.0       0.0        0.0         0.0       0.0   \n",
       "4   0.0        0.0   0.0       0.0        0.0         0.0       0.0   \n",
       "\n",
       "   absolutely  accept  acceptable  ...  wrongly  year  year still  yesterday  \\\n",
       "0         0.0     0.0         0.0  ...      0.0   0.0         0.0        0.0   \n",
       "1         0.0     0.0         0.0  ...      0.0   0.0         0.0        0.0   \n",
       "2         0.0     0.0         0.0  ...      0.0   0.0         0.0        0.0   \n",
       "3         0.0     0.0         0.0  ...      0.0   0.0         0.0        0.0   \n",
       "4         0.0     0.0         0.0  ...      0.0   0.0         0.0        0.0   \n",
       "\n",
       "   yet  young   yr      zero  zoom  pos_score  \n",
       "0  0.0    0.0  0.0  0.000000   0.0      0.000  \n",
       "1  0.0    0.0  0.0  0.000000   0.0      1.000  \n",
       "2  0.0    0.0  0.0  0.000000   0.0      0.000  \n",
       "3  0.0    0.0  0.0  0.000000   0.0      0.000  \n",
       "4  0.0    0.0  0.0  0.204812   0.0      0.168  \n",
       "\n",
       "[5 rows x 3001 columns]"
      ]
     },
     "execution_count": 53,
     "metadata": {},
     "output_type": "execute_result"
    }
   ],
   "source": [
    "X_test.reset_index(inplace=True, drop=True)\n",
    "X_test_tvec_df['pos_score'] = X_test['pos_score']\n",
    "X_test_tvec_df.head()"
   ]
  },
  {
   "cell_type": "markdown",
   "metadata": {},
   "source": [
    "Let's proceed to fit the MultinomialNB model with this new feature set."
   ]
  },
  {
   "cell_type": "code",
   "execution_count": 54,
   "metadata": {},
   "outputs": [],
   "source": [
    "nb = MultinomialNB(alpha = 1.0)\n",
    "nb.fit(X_train_tvec_df, y_train)\n",
    "y_preds = nb.predict(X_test_tvec_df)"
   ]
  },
  {
   "cell_type": "code",
   "execution_count": 55,
   "metadata": {},
   "outputs": [
    {
     "name": "stdout",
     "output_type": "stream",
     "text": [
      "MultinomialNB with TfidfVectorizer (with Vader Positive Score as feature)\n",
      "----------------------------------------------------------------\n",
      "train accuracy  :  0.91\n",
      " \n",
      "              precision    recall  f1-score   support\n",
      "\n",
      "           0       0.89      0.87      0.88       465\n",
      "           1       0.87      0.88      0.87       444\n",
      "\n",
      "    accuracy                           0.88       909\n",
      "   macro avg       0.88      0.88      0.88       909\n",
      "weighted avg       0.88      0.88      0.88       909\n",
      "\n"
     ]
    },
    {
     "data": {
      "image/png": "[encoded data removed]",
      "text/plain": [
       "<Figure size 432x288 with 2 Axes>"
      ]
     },
     "metadata": {
      "needs_background": "light"
     },
     "output_type": "display_data"
    },
    {
     "data": {
      "image/png": "[encoded data removed]",
      "text/plain": [
       "<Figure size 432x288 with 1 Axes>"
      ]
     },
     "metadata": {
      "needs_background": "light"
     },
     "output_type": "display_data"
    }
   ],
   "source": [
    "print(f\"MultinomialNB with TfidfVectorizer (with Vader Positive Score as feature)\")\n",
    "print('----------------------------------------------------------------')\n",
    "print(f\"train accuracy  :  {nb.score(X_train_tvec_df, y_train):.2f}\")\n",
    "print(\" \")\n",
    "print(classification_report(y_test, y_preds))\n",
    "plot_confusion_matrix(nb, X_test_tvec_df, y_test, cmap='Blues', values_format='d');\n",
    "plot_roc_curve(nb, X_test_tvec_df, y_test);"
   ]
  },
  {
   "cell_type": "markdown",
   "metadata": {},
   "source": [
    "The **MultinomialNB with TfidfVectorizer model with VADER positive score** yield slight improvement to the test accuraccy of 0.88 (over 0.87 without VADER positive score as feature)."
   ]
  },
  {
   "cell_type": "code",
   "execution_count": 56,
   "metadata": {},
   "outputs": [],
   "source": [
    "nb_coef = pd.Series(np.exp(nb.coef_[0]), index = X_train_tvec_df.columns)"
   ]
  },
  {
   "cell_type": "code",
   "execution_count": 57,
   "metadata": {},
   "outputs": [
    {
     "data": {
      "image/png": "[encoded data removed]",
      "text/plain": [
       "<Figure size 864x432 with 1 Axes>"
      ]
     },
     "metadata": {
      "needs_background": "light"
     },
     "output_type": "display_data"
    }
   ],
   "source": [
    "nb_coef.sort_values().tail(10).plot(kind='barh', figsize=(12, 6), legend=None, color='lightpink')\n",
    "plt.title(\"Logistic Regression with TfidfVectorizer (with Vader Positive Score)'s Top 10 Most Predictive Features for Negative Reviews\", size=15, y=1.01)\n",
    "plt.ylabel('Features', size=12)\n",
    "plt.yticks(size=14)\n",
    "plt.tight_layout();"
   ]
  },
  {
   "cell_type": "code",
   "execution_count": 58,
   "metadata": {},
   "outputs": [
    {
     "data": {
      "image/png": "[encoded data removed]",
      "text/plain": [
       "<Figure size 864x432 with 1 Axes>"
      ]
     },
     "metadata": {
      "needs_background": "light"
     },
     "output_type": "display_data"
    }
   ],
   "source": [
    "nb_coef.sort_values().head(10).plot(kind='barh', figsize=(12, 6), legend=None, color='mediumaquamarine')\n",
    "plt.title(\"Logistic Regression with TfidfVectorizer (with Vader Positive Score)'s Top 10 Most Predictive Features for Positive Reviews\", size=15, y=1.01)\n",
    "plt.ylabel('Features', size=12)\n",
    "plt.yticks(size=14)\n",
    "plt.tight_layout();"
   ]
  },
  {
   "cell_type": "markdown",
   "metadata": {},
   "source": [
    "Notably, the VADER positive score is the top predictor for negative reviews."
   ]
  },
  {
   "cell_type": "markdown",
   "metadata": {},
   "source": [
    "**Model Evaluation:**\n",
    "\n",
    "\n",
    "| Model | Train Accuracy | Test Accuracy | Recall | Precision | F1 Score | ROC AUC Score |\n",
    "|:--- |:---:|:---:|:---:|:---:|:---:|:---:|\n",
    "| Logistic Regression with TfidfVectorizer | 0.85 | 0.87 | 0.89 | 0.85 | 0.87 | 0.93 |\n",
    "| MultinomialNB with TfidfVectorizer | 0.85 | 0.87 | 0.89 | 0.86 | 0.87 | 0.94 |\n",
    "| MultinomialNB with TfidfVectorizer (with Vader Positive Score as features) | 0.91 | 0.88 | 0.88 | 0.87 | 0.87 | 0.94 |"
   ]
  },
  {
   "cell_type": "markdown",
   "metadata": {},
   "source": [
    "Comparing the best models from earlier section, **MultinomialNB with TfidfVectorizer using VADER positive score as feature** improves model accuracy marginally, with comparable F1 score and ROC AUC score, while recall dip by 1 percent point."
   ]
  },
  {
   "cell_type": "markdown",
   "metadata": {},
   "source": [
    "## 2.3 Ensemble Technique: Voting Classifier"
   ]
  },
  {
   "cell_type": "markdown",
   "metadata": {},
   "source": [
    "Using the classical machine learning approach with text reviews as feature, the Logistic Regression with TfidfVectorizer and MultinomialNB with TfidfVectorizer give the best results based on test accuracy, recall and ROC AUC score.\n",
    "\n",
    "Let's build a voting classifier using these 2 models to see if it yield better performance. Soft voting will be used to predict the class based on argmaz of the sums of the predicted probabilities of the 2 estimators, and a higher weight is given to the Multinomial NB as it has slightly better ROC AUC and precision than the Logistic Regression model (while both models have same accuracy and recall)."
   ]
  },
  {
   "cell_type": "code",
   "execution_count": 59,
   "metadata": {},
   "outputs": [],
   "source": [
    "# instantiate voting classifier\n",
    "votingcl = VotingClassifier(estimators=[('lr_tvec', gs_lr_tvec), ('nb_tvec', gs_nb_tvec)],\n",
    "                           voting='soft',    # soft voting predicts the class based on argmax of the sums of the predicted probabilities\n",
    "                           weights = [1,2])  # higher weight for MultinomialNB as it has higher ROC AUC and precision\n",
    "                                             # while accuracy and recall are same as logistic regression\n",
    "\n",
    "# fit voting classifier\n",
    "votingcl.fit(X_train['review_lem'], y_train)\n",
    "\n",
    "# generate predictions\n",
    "voting_y_preds = votingcl.predict(X_test['review_lem'])"
   ]
  },
  {
   "cell_type": "code",
   "execution_count": 60,
   "metadata": {
    "scrolled": false
   },
   "outputs": [
    {
     "name": "stdout",
     "output_type": "stream",
     "text": [
      "Voting Classifier\n",
      "----------------------------------------------------------------\n",
      "train accuracy  :  0.92\n",
      " \n",
      "              precision    recall  f1-score   support\n",
      "\n",
      "           0       0.90      0.87      0.88       465\n",
      "           1       0.86      0.89      0.88       444\n",
      "\n",
      "    accuracy                           0.88       909\n",
      "   macro avg       0.88      0.88      0.88       909\n",
      "weighted avg       0.88      0.88      0.88       909\n",
      "\n"
     ]
    },
    {
     "data": {
      "image/png": "[encoded data removed]",
      "text/plain": [
       "<Figure size 432x288 with 2 Axes>"
      ]
     },
     "metadata": {
      "needs_background": "light"
     },
     "output_type": "display_data"
    },
    {
     "data": {
      "image/png": "[encoded data removed]",
      "text/plain": [
       "<Figure size 432x288 with 1 Axes>"
      ]
     },
     "metadata": {
      "needs_background": "light"
     },
     "output_type": "display_data"
    }
   ],
   "source": [
    "print(f\"Voting Classifier\")\n",
    "print('----------------------------------------------------------------')\n",
    "print(f\"train accuracy  :  {votingcl.score(X_train['review_lem'], y_train):.2f}\")\n",
    "print(\" \")\n",
    "print(classification_report(y_test, voting_y_preds))\n",
    "plot_confusion_matrix(votingcl, X_test['review_lem'], y_test, cmap='Blues', values_format='d');\n",
    "plot_roc_curve(votingcl, X_test['review_lem'], y_test);"
   ]
  },
  {
   "cell_type": "markdown",
   "metadata": {},
   "source": [
    "| Model | Train Accuracy | Test Accuracy | Recall | Precision | F1 Score | ROC AUC Score |\n",
    "|:--- |:---:|:---:|:---:|:---:|:---:|:---:|\n",
    "| Logistic Regression with TfidfVectorizer | 0.85 | 0.87 | 0.89 | 0.85 | 0.87 | 0.93 |\n",
    "| MultinomialNB with TfidfVectorizer | 0.85 | 0.87 | 0.89 | 0.86 | 0.87 | 0.94 |\n",
    "| MultinomialNB with TfidfVectorizer (with Vader Positive Score as feature) | 0.91 | 0.88 | 0.88 | 0.87 | 0.87 | 0.94 |\n",
    "| Voting Classifier (Logistic Regression & Multinomial NB with TfidfVectorizer)| 0.92 | 0.88 | 0.89 | 0.86 | 0.88 | 0.94| \n"
   ]
  },
  {
   "cell_type": "markdown",
   "metadata": {},
   "source": [
    "The **Voting Classifer** model achieves a comparable test accuracy of 0.88 and ROC AUC score of 0.94 vs. the MultinomialNB with TfidfVectorizer model using VADER positive score as feature. Recall has improved by 1 percent point to 0.89."
   ]
  },
  {
   "cell_type": "markdown",
   "metadata": {},
   "source": [
    "## 2.4 Deep Learning using LSTM"
   ]
  },
  {
   "cell_type": "markdown",
   "metadata": {},
   "source": [
    "Finally, I will attempt to apply Deep Learning for this classification problem. \n",
    "\n",
    "I will be using Recurrent Neural Network (RNN), specifically Long Short Term Memory (LSTM) for modelling. LSTM was introduced by Hocheriter & Schmindhuber in 1997. It is a type of RNN network that can grasp long term dependence."
   ]
  },
  {
   "cell_type": "markdown",
   "metadata": {},
   "source": [
    "To implement LSTM, I will first prepare the data by:\n",
    "* Putting the reviews in an array\n",
    "* Tokenize the reviews\n",
    "* Transform the reviews into sequences\n",
    "* Padding the sequences to have equal length"
   ]
  },
  {
   "cell_type": "code",
   "execution_count": 61,
   "metadata": {},
   "outputs": [],
   "source": [
    "X_train_ls = X_train['review_lem'].values\n",
    "X_test_ls = X_test['review_lem'].values\n",
    "\n",
    "y_train_ls = y_train.values\n",
    "y_test_ls = y_test.values"
   ]
  },
  {
   "cell_type": "code",
   "execution_count": 62,
   "metadata": {},
   "outputs": [
    {
     "data": {
      "text/plain": [
       "array(['good service', 'good', 'add staff upper boon keng rd outlet', ...,\n",
       "       'previous convenience lost remove cart add list many others',\n",
       "       'slow poor ux page load slowly system glitch often trying check',\n",
       "       'hang easily'], dtype=object)"
      ]
     },
     "execution_count": 62,
     "metadata": {},
     "output_type": "execute_result"
    }
   ],
   "source": [
    "X_train_ls"
   ]
  },
  {
   "cell_type": "code",
   "execution_count": 63,
   "metadata": {},
   "outputs": [],
   "source": [
    "max_words = 1000    # set to 1000 for now; check for overfitting\n",
    "\n",
    "# Tokenize \n",
    "tokenizer = Tokenizer(num_words=max_words)\n",
    "tokenizer.fit_on_texts(list(X_train_ls))\n",
    "\n",
    "# Convert to sequences\n",
    "X_train_ls = tokenizer.texts_to_sequences(X_train_ls)\n",
    "X_test_ls = tokenizer.texts_to_sequences(X_test_ls)"
   ]
  },
  {
   "cell_type": "code",
   "execution_count": 64,
   "metadata": {},
   "outputs": [
    {
     "data": {
      "text/plain": [
       "3257"
      ]
     },
     "execution_count": 64,
     "metadata": {},
     "output_type": "execute_result"
    }
   ],
   "source": [
    "vocab_size = len(tokenizer.word_index)+1\n",
    "vocab_size"
   ]
  },
  {
   "cell_type": "code",
   "execution_count": 65,
   "metadata": {},
   "outputs": [],
   "source": [
    "max_length = 15 \n",
    "\n",
    "# add padding so the length of each sequence is 15 words\n",
    "X_train_pad = pad_sequences(X_train_ls, maxlen=max_length, padding='post')\n",
    "X_test_pad = pad_sequences(X_test_ls, maxlen=max_length, padding='post')"
   ]
  },
  {
   "cell_type": "markdown",
   "metadata": {},
   "source": [
    "Now that the data are converted into sequences, let's proceed to set up the LSTM model and fit the model."
   ]
  },
  {
   "cell_type": "code",
   "execution_count": 66,
   "metadata": {},
   "outputs": [],
   "source": [
    "# Instantiate model\n",
    "model = Sequential()\n",
    "\n",
    "# first embedding layer\n",
    "model.add(Embedding(vocab_size, 8, input_length=max_length)) \n",
    "\n",
    "# drop out\n",
    "model.add(SpatialDropout1D(0.5))\n",
    "\n",
    "# LSTM layer\n",
    "model.add(Bidirectional(LSTM(16, return_sequences=True, dropout=0.5, recurrent_dropout=0.5))) \n",
    "\n",
    "# output layer\n",
    "model.add(Dense(1, activation='sigmoid'))"
   ]
  },
  {
   "cell_type": "code",
   "execution_count": 67,
   "metadata": {},
   "outputs": [
    {
     "name": "stdout",
     "output_type": "stream",
     "text": [
      "Model: \"sequential\"\n",
      "_________________________________________________________________\n",
      "Layer (type)                 Output Shape              Param #   \n",
      "=================================================================\n",
      "embedding (Embedding)        (None, 15, 8)             26056     \n",
      "_________________________________________________________________\n",
      "spatial_dropout1d (SpatialDr (None, 15, 8)             0         \n",
      "_________________________________________________________________\n",
      "bidirectional (Bidirectional (None, 15, 32)            3200      \n",
      "_________________________________________________________________\n",
      "dense (Dense)                (None, 15, 1)             33        \n",
      "=================================================================\n",
      "Total params: 29,289\n",
      "Trainable params: 29,289\n",
      "Non-trainable params: 0\n",
      "_________________________________________________________________\n"
     ]
    }
   ],
   "source": [
    "model.summary()"
   ]
  },
  {
   "cell_type": "code",
   "execution_count": 68,
   "metadata": {},
   "outputs": [],
   "source": [
    "# Compile the model\n",
    "model.compile(optimizer=Adam(lr=0.005), loss='binary_crossentropy', metrics=['accuracy'])"
   ]
  },
  {
   "cell_type": "code",
   "execution_count": 69,
   "metadata": {},
   "outputs": [],
   "source": [
    "# create checkpoint to save weights\n",
    "filepath='./output/weights.best.hdf5'\n",
    "checkpoint = ModelCheckpoint(filepath, monitor='val_accuracy', verbose=1, save_best_only=True, mode='max')\n",
    "callbacks_list = [checkpoint]"
   ]
  },
  {
   "cell_type": "code",
   "execution_count": 70,
   "metadata": {
    "scrolled": true
   },
   "outputs": [
    {
     "name": "stdout",
     "output_type": "stream",
     "text": [
      "Epoch 1/15\n",
      "41/43 [===========================>..] - ETA: 0s - loss: 0.6231 - accuracy: 0.6383\n",
      "Epoch 00001: val_accuracy improved from -inf to 0.82838, saving model to ./output\\weights.best.hdf5\n",
      "43/43 [==============================] - 1s 26ms/step - loss: 0.6197 - accuracy: 0.6425 - val_loss: 0.4464 - val_accuracy: 0.8284\n",
      "Epoch 2/15\n",
      "43/43 [==============================] - ETA: 0s - loss: 0.4626 - accuracy: 0.8073\n",
      "Epoch 00002: val_accuracy improved from 0.82838 to 0.84811, saving model to ./output\\weights.best.hdf5\n",
      "43/43 [==============================] - 1s 14ms/step - loss: 0.4626 - accuracy: 0.8073 - val_loss: 0.3886 - val_accuracy: 0.8481\n",
      "Epoch 3/15\n",
      "43/43 [==============================] - ETA: 0s - loss: 0.4024 - accuracy: 0.8407\n",
      "Epoch 00003: val_accuracy improved from 0.84811 to 0.85941, saving model to ./output\\weights.best.hdf5\n",
      "43/43 [==============================] - 1s 19ms/step - loss: 0.4024 - accuracy: 0.8407 - val_loss: 0.3545 - val_accuracy: 0.8594\n",
      "Epoch 4/15\n",
      "40/43 [==========================>...] - ETA: 0s - loss: 0.3712 - accuracy: 0.8504\n",
      "Epoch 00004: val_accuracy improved from 0.85941 to 0.86777, saving model to ./output\\weights.best.hdf5\n",
      "43/43 [==============================] - 1s 18ms/step - loss: 0.3731 - accuracy: 0.8499 - val_loss: 0.3515 - val_accuracy: 0.8678\n",
      "Epoch 5/15\n",
      "41/43 [===========================>..] - ETA: 0s - loss: 0.3552 - accuracy: 0.8616\n",
      "Epoch 00005: val_accuracy improved from 0.86777 to 0.86835, saving model to ./output\\weights.best.hdf5\n",
      "43/43 [==============================] - 1s 19ms/step - loss: 0.3554 - accuracy: 0.8609 - val_loss: 0.3314 - val_accuracy: 0.8684\n",
      "Epoch 6/15\n",
      "41/43 [===========================>..] - ETA: 0s - loss: 0.3362 - accuracy: 0.8664\n",
      "Epoch 00006: val_accuracy did not improve from 0.86835\n",
      "43/43 [==============================] - 1s 19ms/step - loss: 0.3408 - accuracy: 0.8643 - val_loss: 0.3723 - val_accuracy: 0.8611\n",
      "Epoch 7/15\n",
      "42/43 [============================>.] - ETA: 0s - loss: 0.3216 - accuracy: 0.8681\n",
      "Epoch 00007: val_accuracy did not improve from 0.86835\n",
      "43/43 [==============================] - 1s 18ms/step - loss: 0.3191 - accuracy: 0.8696 - val_loss: 0.3478 - val_accuracy: 0.8652\n",
      "Epoch 8/15\n",
      "41/43 [===========================>..] - ETA: 0s - loss: 0.3198 - accuracy: 0.8698\n",
      "Epoch 00008: val_accuracy did not improve from 0.86835\n",
      "43/43 [==============================] - 1s 17ms/step - loss: 0.3218 - accuracy: 0.8695 - val_loss: 0.3628 - val_accuracy: 0.8645\n",
      "Epoch 9/15\n",
      "43/43 [==============================] - ETA: 0s - loss: 0.3208 - accuracy: 0.8719\n",
      "Epoch 00009: val_accuracy did not improve from 0.86835\n",
      "43/43 [==============================] - 1s 18ms/step - loss: 0.3208 - accuracy: 0.8719 - val_loss: 0.3460 - val_accuracy: 0.8611\n",
      "Epoch 10/15\n",
      "41/43 [===========================>..] - ETA: 0s - loss: 0.2981 - accuracy: 0.8804\n",
      "Epoch 00010: val_accuracy did not improve from 0.86835\n",
      "43/43 [==============================] - 1s 17ms/step - loss: 0.3009 - accuracy: 0.8802 - val_loss: 0.3513 - val_accuracy: 0.8631\n",
      "Epoch 11/15\n",
      "43/43 [==============================] - ETA: 0s - loss: 0.2947 - accuracy: 0.8835\n",
      "Epoch 00011: val_accuracy did not improve from 0.86835\n",
      "43/43 [==============================] - 1s 18ms/step - loss: 0.2947 - accuracy: 0.8835 - val_loss: 0.3614 - val_accuracy: 0.8637\n",
      "Epoch 12/15\n",
      "41/43 [===========================>..] - ETA: 0s - loss: 0.2860 - accuracy: 0.8860\n",
      "Epoch 00012: val_accuracy did not improve from 0.86835\n",
      "43/43 [==============================] - 1s 17ms/step - loss: 0.2839 - accuracy: 0.8868 - val_loss: 0.3643 - val_accuracy: 0.8619\n",
      "Epoch 13/15\n",
      "42/43 [============================>.] - ETA: 0s - loss: 0.2862 - accuracy: 0.8811\n",
      "Epoch 00013: val_accuracy did not improve from 0.86835\n",
      "43/43 [==============================] - 1s 17ms/step - loss: 0.2861 - accuracy: 0.8811 - val_loss: 0.3624 - val_accuracy: 0.8633\n",
      "Epoch 14/15\n",
      "43/43 [==============================] - ETA: 0s - loss: 0.2711 - accuracy: 0.8933\n",
      "Epoch 00014: val_accuracy did not improve from 0.86835\n",
      "43/43 [==============================] - 1s 17ms/step - loss: 0.2711 - accuracy: 0.8933 - val_loss: 0.3819 - val_accuracy: 0.8610\n",
      "Epoch 15/15\n",
      "41/43 [===========================>..] - ETA: 0s - loss: 0.2858 - accuracy: 0.8845\n",
      "Epoch 00015: val_accuracy did not improve from 0.86835\n",
      "43/43 [==============================] - 1s 17ms/step - loss: 0.2854 - accuracy: 0.8846 - val_loss: 0.3782 - val_accuracy: 0.8630\n"
     ]
    }
   ],
   "source": [
    "# fit the model\n",
    "history = model.fit(X_train_pad, y_train_ls, epochs=15, batch_size=64, \n",
    "                    validation_data=(X_test_pad, y_test_ls), callbacks = callbacks_list)"
   ]
  },
  {
   "cell_type": "code",
   "execution_count": 71,
   "metadata": {},
   "outputs": [
    {
     "data": {
      "image/png": "[encoded data removed]",
      "text/plain": [
       "<Figure size 864x576 with 1 Axes>"
      ]
     },
     "metadata": {
      "needs_background": "light"
     },
     "output_type": "display_data"
    }
   ],
   "source": [
    "plt.figure(figsize=(10,6))\n",
    "\n",
    "plt.plot(history.history['accuracy'], label='Train Accuracy')\n",
    "plt.plot(history.history['val_accuracy'], label='Test Accuracy')\n",
    "plt.title(\"Train and Test Accuracy\", fontsize=16, y=1.01)\n",
    "plt.legend();"
   ]
  },
  {
   "cell_type": "code",
   "execution_count": 72,
   "metadata": {},
   "outputs": [
    {
     "data": {
      "image/png": "[encoded data removed]",
      "text/plain": [
       "<Figure size 864x576 with 1 Axes>"
      ]
     },
     "metadata": {
      "needs_background": "light"
     },
     "output_type": "display_data"
    }
   ],
   "source": [
    "plt.figure(figsize=(10,6))\n",
    "\n",
    "plt.plot(history.history['loss'], label='Train Loss')\n",
    "plt.plot(history.history['val_loss'], label='Test Loss')\n",
    "plt.title(\"Train and Test Loss\", fontsize=16, y=1.01)\n",
    "plt.legend();"
   ]
  },
  {
   "cell_type": "markdown",
   "metadata": {},
   "source": [
    "### Loading a Check-Pointed LSTM Model"
   ]
  },
  {
   "cell_type": "code",
   "execution_count": 73,
   "metadata": {},
   "outputs": [],
   "source": [
    "# load the weights\n",
    "model.load_weights('./output/weights.best.hdf5')"
   ]
  },
  {
   "cell_type": "code",
   "execution_count": 74,
   "metadata": {},
   "outputs": [],
   "source": [
    "# compile the model\n",
    "model.compile(optimizer=Adam(lr=0.005), loss='binary_crossentropy', metrics=['accuracy'])"
   ]
  },
  {
   "cell_type": "code",
   "execution_count": 75,
   "metadata": {},
   "outputs": [],
   "source": [
    "# obtain y_preds\n",
    "preds = (model.predict(X_test_pad) > 0.5).astype(int)\n",
    "\n",
    "y_preds = []\n",
    "\n",
    "for i in preds:\n",
    "    y_preds.append(i[0][0])\n",
    "\n",
    "# Convert y_preds to a series\n",
    "lstm_y_preds = pd.Series(y_preds)"
   ]
  },
  {
   "cell_type": "code",
   "execution_count": 76,
   "metadata": {},
   "outputs": [],
   "source": [
    "# obtain y_preds_proba\n",
    "preds_probas = model.predict(X_test_pad)\n",
    "\n",
    "y_preds_probas = []\n",
    "\n",
    "for i in preds_probas:\n",
    "    y_preds_probas.append(i[0][0])\n",
    "\n",
    "# Convert y_preds_probas to a series\n",
    "lstm_y_preds_probas = pd.Series(y_preds_probas)"
   ]
  },
  {
   "cell_type": "code",
   "execution_count": 77,
   "metadata": {},
   "outputs": [
    {
     "name": "stdout",
     "output_type": "stream",
     "text": [
      "Neural Network - LSTM Model\n",
      "----------------------------------------------------------------\n",
      "train accuracy  :  0.91\n",
      " \n",
      "              precision    recall  f1-score   support\n",
      "\n",
      "           0       0.88      0.88      0.88       465\n",
      "           1       0.87      0.87      0.87       444\n",
      "\n",
      "    accuracy                           0.88       909\n",
      "   macro avg       0.88      0.88      0.88       909\n",
      "weighted avg       0.88      0.88      0.88       909\n",
      "\n",
      "ROC AUC Score  :  0.94\n"
     ]
    }
   ],
   "source": [
    "print(f\"Neural Network - LSTM Model\")\n",
    "print('----------------------------------------------------------------')\n",
    "print(f\"train accuracy  :  {model.evaluate(X_train_pad, y_train_ls, verbose=0)[1]:.2f}\")\n",
    "print(\" \")\n",
    "print(classification_report(y_test_ls, lstm_y_preds))\n",
    "print(f\"ROC AUC Score  :  {roc_auc_score(y_test_ls, lstm_y_preds_probas):.2f}\")"
   ]
  },
  {
   "cell_type": "markdown",
   "metadata": {},
   "source": [
    "In the **LSTM model**, the test accuracy is 0.88, similar to the classical machine learning models."
   ]
  },
  {
   "cell_type": "markdown",
   "metadata": {},
   "source": [
    "| Model | Train Accuracy | Test Accuracy | Recall | Precision | F1 Score | ROC AUC Score |\n",
    "|:--- |:---:|:---:|:---:|:---:|:---:|:---:|\n",
    "| Logistic Regression with TfidfVectorizer | 0.85 | 0.87 | 0.89 | 0.85 | 0.87 | 0.93 |\n",
    "| MultinomialNB with TfidfVectorizer | 0.85 | 0.87 | 0.89 | 0.86 | 0.87 | 0.94 |\n",
    "| MultinomialNB with TfidfVectorizer (with Vader Positive Score as feature) | 0.91 | 0.88 | 0.88 | 0.87 | 0.87 | 0.94 |\n",
    "| Voting Classifier (Logistic Regression & Multinomial NB with TfidfVectorizer)| 0.92 | 0.88 | 0.89 | 0.86 | 0.88 | 0.94| \n",
    "| LSTM Model | 0.90 | 0.88 | 0.85 | 0.89 | 0.87 | 0.94 |"
   ]
  },
  {
   "cell_type": "markdown",
   "metadata": {},
   "source": [
    "After evaluating all the models, the **Voting Classifier** is selected as the production model, given its relatively better test accuracy, recall, F1 score and ROC AUC score."
   ]
  },
  {
   "cell_type": "markdown",
   "metadata": {},
   "source": [
    "## 2.5 Review on Misclassified Reviews"
   ]
  },
  {
   "cell_type": "markdown",
   "metadata": {},
   "source": [
    "Let's take a look at the Voting Classifier model and review the misclassified reviews."
   ]
  },
  {
   "cell_type": "code",
   "execution_count": 78,
   "metadata": {},
   "outputs": [],
   "source": [
    "# create a dataframe for only the test data\n",
    "test_df = df.loc[y_test.index, :] \n",
    "\n",
    "# add a column for predictions\n",
    "test_df['pred'] = voting_y_preds"
   ]
  },
  {
   "cell_type": "code",
   "execution_count": 79,
   "metadata": {},
   "outputs": [],
   "source": [
    "# create a dataframe of misclassified reviews\n",
    "misclassified_df = test_df[test_df['neg_review'] != test_df['pred']]"
   ]
  },
  {
   "cell_type": "code",
   "execution_count": 80,
   "metadata": {},
   "outputs": [
    {
     "data": {
      "text/plain": [
       "(109, 12)"
      ]
     },
     "execution_count": 80,
     "metadata": {},
     "output_type": "execute_result"
    }
   ],
   "source": [
    "misclassified_df.shape"
   ]
  },
  {
   "cell_type": "markdown",
   "metadata": {},
   "source": [
    "There are a total of 109 misclassified posts (out of 909 reviews)."
   ]
  },
  {
   "cell_type": "markdown",
   "metadata": {},
   "source": [
    "### 2.5.1 False Positives"
   ]
  },
  {
   "cell_type": "markdown",
   "metadata": {},
   "source": [
    "Recall that the positive class refers to the Negative Posts, and positive class refers to Positive Posts.\n",
    "\n",
    "First, let's look at the False Positives, which are the Negative Reviews wrongly classified as Positive Reviews."
   ]
  },
  {
   "cell_type": "code",
   "execution_count": 81,
   "metadata": {
    "scrolled": false
   },
   "outputs": [
    {
     "data": {
      "image/png": "[encoded data removed]",
      "text/plain": [
       "<Figure size 720x360 with 1 Axes>"
      ]
     },
     "metadata": {
      "needs_background": "light"
     },
     "output_type": "display_data"
    }
   ],
   "source": [
    "plt.figure(figsize=(10, 5))\n",
    "misclassified_df[(misclassified_df['neg_review'] == 1) & (misclassified_df['pred'] == 0)]['rating'].value_counts().sort_index().plot(kind='bar', color='lightseagreen')\n",
    "plt.title('Number of False Positives by Rating', fontsize=16, y=1.01)\n",
    "plt.ylabel('Number of False Positives')\n",
    "plt.xlabel('Rating')\n",
    "plt.xticks(rotation=0);"
   ]
  },
  {
   "cell_type": "code",
   "execution_count": 82,
   "metadata": {
    "scrolled": false
   },
   "outputs": [
    {
     "data": {
      "text/html": [
       "<div>\n",
       "<style scoped>\n",
       "    .dataframe tbody tr th:only-of-type {\n",
       "        vertical-align: middle;\n",
       "    }\n",
       "\n",
       "    .dataframe tbody tr th {\n",
       "        vertical-align: top;\n",
       "    }\n",
       "\n",
       "    .dataframe thead th {\n",
       "        text-align: right;\n",
       "    }\n",
       "</style>\n",
       "<table border=\"1\" class=\"dataframe\">\n",
       "  <thead>\n",
       "    <tr style=\"text-align: right;\">\n",
       "      <th></th>\n",
       "      <th>review</th>\n",
       "      <th>neg_review</th>\n",
       "      <th>rating</th>\n",
       "      <th>pred</th>\n",
       "    </tr>\n",
       "  </thead>\n",
       "  <tbody>\n",
       "    <tr>\n",
       "      <th>1043</th>\n",
       "      <td>not as easy as I thought</td>\n",
       "      <td>1</td>\n",
       "      <td>3</td>\n",
       "      <td>0</td>\n",
       "    </tr>\n",
       "    <tr>\n",
       "      <th>1000</th>\n",
       "      <td>Will be good to maintain a list of my regular purchased items</td>\n",
       "      <td>1</td>\n",
       "      <td>3</td>\n",
       "      <td>0</td>\n",
       "    </tr>\n",
       "    <tr>\n",
       "      <th>1033</th>\n",
       "      <td>There is no function to offset against linkpoints if you are ntuc member.</td>\n",
       "      <td>1</td>\n",
       "      <td>3</td>\n",
       "      <td>0</td>\n",
       "    </tr>\n",
       "    <tr>\n",
       "      <th>1230</th>\n",
       "      <td>K</td>\n",
       "      <td>1</td>\n",
       "      <td>3</td>\n",
       "      <td>0</td>\n",
       "    </tr>\n",
       "    <tr>\n",
       "      <th>963</th>\n",
       "      <td>Helpful if able to show how much more to purchase to enjoy free delivery instead of flashing few seconds. Thanks</td>\n",
       "      <td>1</td>\n",
       "      <td>3</td>\n",
       "      <td>0</td>\n",
       "    </tr>\n",
       "    <tr>\n",
       "      <th>1035</th>\n",
       "      <td>app better than on computer</td>\n",
       "      <td>1</td>\n",
       "      <td>3</td>\n",
       "      <td>0</td>\n",
       "    </tr>\n",
       "    <tr>\n",
       "      <th>1125</th>\n",
       "      <td>user friendly as can order on the go but can be better if screen can load more products to view at a glance. best if intelligent s/w can help propose related products to make online shopping easier.</td>\n",
       "      <td>1</td>\n",
       "      <td>3</td>\n",
       "      <td>0</td>\n",
       "    </tr>\n",
       "    <tr>\n",
       "      <th>951</th>\n",
       "      <td>The product required are running low on stock. It will be good to have option to update when stock will be replenished. Preferably will be good to catered online chat assistance for urgent enquiries.</td>\n",
       "      <td>1</td>\n",
       "      <td>3</td>\n",
       "      <td>0</td>\n",
       "    </tr>\n",
       "    <tr>\n",
       "      <th>3093</th>\n",
       "      <td>Just Suggestion The app is useful but I think it would be better if we can receive promotion notification on the items we selected.</td>\n",
       "      <td>1</td>\n",
       "      <td>3</td>\n",
       "      <td>0</td>\n",
       "    </tr>\n",
       "    <tr>\n",
       "      <th>3069</th>\n",
       "      <td>Not easy to navigate Once you click on a product it’s not easy to go back to the cart or to home. You can’t find the back arrow or anywhere to click to go back!</td>\n",
       "      <td>1</td>\n",
       "      <td>3</td>\n",
       "      <td>0</td>\n",
       "    </tr>\n",
       "  </tbody>\n",
       "</table>\n",
       "</div>"
      ],
      "text/plain": [
       "                                                                                                                                                                                                       review  \\\n",
       "1043                                                                                                                                                                                 not as easy as I thought   \n",
       "1000                                                                                                                                            Will be good to maintain a list of my regular purchased items   \n",
       "1033                                                                                                                                There is no function to offset against linkpoints if you are ntuc member.   \n",
       "1230                                                                                                                                                                                                        K   \n",
       "963                                                                                          Helpful if able to show how much more to purchase to enjoy free delivery instead of flashing few seconds. Thanks   \n",
       "1035                                                                                                                                                                              app better than on computer   \n",
       "1125   user friendly as can order on the go but can be better if screen can load more products to view at a glance. best if intelligent s/w can help propose related products to make online shopping easier.   \n",
       "951   The product required are running low on stock. It will be good to have option to update when stock will be replenished. Preferably will be good to catered online chat assistance for urgent enquiries.   \n",
       "3093                                                                      Just Suggestion The app is useful but I think it would be better if we can receive promotion notification on the items we selected.   \n",
       "3069                                         Not easy to navigate Once you click on a product it’s not easy to go back to the cart or to home. You can’t find the back arrow or anywhere to click to go back!   \n",
       "\n",
       "      neg_review  rating  pred  \n",
       "1043           1       3     0  \n",
       "1000           1       3     0  \n",
       "1033           1       3     0  \n",
       "1230           1       3     0  \n",
       "963            1       3     0  \n",
       "1035           1       3     0  \n",
       "1125           1       3     0  \n",
       "951            1       3     0  \n",
       "3093           1       3     0  \n",
       "3069           1       3     0  "
      ]
     },
     "execution_count": 82,
     "metadata": {},
     "output_type": "execute_result"
    }
   ],
   "source": [
    "pd.set_option('display.max_colwidth', None)\n",
    "misclassified_df[(misclassified_df['neg_review'] == 1) & (misclassified_df['pred'] == 0) & (misclassified_df['rating'] == 3)][['review', 'neg_review', 'rating', 'pred']].head(10)"
   ]
  },
  {
   "cell_type": "markdown",
   "metadata": {},
   "source": [
    "Notably, many of the misclassified False Positives are actually 'neutral' reviews with rating 3 out of 5, with suggestions for improvement."
   ]
  },
  {
   "cell_type": "markdown",
   "metadata": {},
   "source": [
    "### 2.5.2 False Negatives"
   ]
  },
  {
   "cell_type": "markdown",
   "metadata": {},
   "source": [
    "The False Negatives are Positive Reviews being misclassified as Negative Reviews."
   ]
  },
  {
   "cell_type": "code",
   "execution_count": 83,
   "metadata": {},
   "outputs": [
    {
     "data": {
      "image/png": "[encoded data removed]",
      "text/plain": [
       "<Figure size 720x360 with 1 Axes>"
      ]
     },
     "metadata": {
      "needs_background": "light"
     },
     "output_type": "display_data"
    }
   ],
   "source": [
    "plt.figure(figsize=(10, 5))\n",
    "misclassified_df[(misclassified_df['neg_review'] == 0) & (misclassified_df['pred'] == 1)]['rating'].value_counts().sort_index().plot(kind='bar', color='lightpink')\n",
    "plt.title('Number of False Negatives by Rating', fontsize=16, y=1.01)\n",
    "plt.ylabel('Number of False Negatives')\n",
    "plt.xlabel('Rating')\n",
    "plt.xticks(rotation=0);"
   ]
  },
  {
   "cell_type": "code",
   "execution_count": 84,
   "metadata": {
    "scrolled": false
   },
   "outputs": [
    {
     "data": {
      "text/html": [
       "<div>\n",
       "<style scoped>\n",
       "    .dataframe tbody tr th:only-of-type {\n",
       "        vertical-align: middle;\n",
       "    }\n",
       "\n",
       "    .dataframe tbody tr th {\n",
       "        vertical-align: top;\n",
       "    }\n",
       "\n",
       "    .dataframe thead th {\n",
       "        text-align: right;\n",
       "    }\n",
       "</style>\n",
       "<table border=\"1\" class=\"dataframe\">\n",
       "  <thead>\n",
       "    <tr style=\"text-align: right;\">\n",
       "      <th></th>\n",
       "      <th>review</th>\n",
       "      <th>neg_review</th>\n",
       "      <th>rating</th>\n",
       "      <th>pred</th>\n",
       "    </tr>\n",
       "  </thead>\n",
       "  <tbody>\n",
       "    <tr>\n",
       "      <th>1268</th>\n",
       "      <td>I've been using this app for a few months because it's very convenient. It's genrally user-friendly, great filter and search functions, good pictures and descriptions. However, it's slow to update the number of units, so I've received the wrong number of the same item a few times. On one occasion, I received the wrong fresh produce (presumably another customer's order). Tried customer service, but I didn't receive a reply.</td>\n",
       "      <td>0</td>\n",
       "      <td>4</td>\n",
       "      <td>1</td>\n",
       "    </tr>\n",
       "    <tr>\n",
       "      <th>3005</th>\n",
       "      <td>Service better but can be better A lot of items found in physical store not available here. Don’t why. Like kong guan pau never available online but always available in physical store wondering why?</td>\n",
       "      <td>0</td>\n",
       "      <td>4</td>\n",
       "      <td>1</td>\n",
       "    </tr>\n",
       "    <tr>\n",
       "      <th>3237</th>\n",
       "      <td>Membership inclusion Doesn’t seem to</td>\n",
       "      <td>0</td>\n",
       "      <td>4</td>\n",
       "      <td>1</td>\n",
       "    </tr>\n",
       "    <tr>\n",
       "      <th>1259</th>\n",
       "      <td>Similar to shopping on site, previously its hard to get delivery slot, now looks like better</td>\n",
       "      <td>0</td>\n",
       "      <td>4</td>\n",
       "      <td>1</td>\n",
       "    </tr>\n",
       "    <tr>\n",
       "      <th>1537</th>\n",
       "      <td>okay but items outbof stock</td>\n",
       "      <td>0</td>\n",
       "      <td>4</td>\n",
       "      <td>1</td>\n",
       "    </tr>\n",
       "    <tr>\n",
       "      <th>1708</th>\n",
       "      <td>More friendly use &amp; nice appearance. But I have to log in many times when I continue my shopping list.</td>\n",
       "      <td>0</td>\n",
       "      <td>4</td>\n",
       "      <td>1</td>\n",
       "    </tr>\n",
       "    <tr>\n",
       "      <th>3097</th>\n",
       "      <td>Delivery Timing May be can consider a more narrow time frame for delivery. 1 hour range instead of 2 hours. Overall the app is fine</td>\n",
       "      <td>0</td>\n",
       "      <td>4</td>\n",
       "      <td>1</td>\n",
       "    </tr>\n",
       "    <tr>\n",
       "      <th>1488</th>\n",
       "      <td>always out of stock 🤦‍♀️</td>\n",
       "      <td>0</td>\n",
       "      <td>4</td>\n",
       "      <td>1</td>\n",
       "    </tr>\n",
       "    <tr>\n",
       "      <th>1393</th>\n",
       "      <td>good app just abit slow to remove item from cart</td>\n",
       "      <td>0</td>\n",
       "      <td>4</td>\n",
       "      <td>1</td>\n",
       "    </tr>\n",
       "    <tr>\n",
       "      <th>1258</th>\n",
       "      <td>In beginning of cb period is very hard to get delivery slot. And your orders is always being modified on the day of delivery due to out of stock. If buy for stock up, it is good apps. If buy for urgent use, pls forget this apps.</td>\n",
       "      <td>0</td>\n",
       "      <td>4</td>\n",
       "      <td>1</td>\n",
       "    </tr>\n",
       "  </tbody>\n",
       "</table>\n",
       "</div>"
      ],
      "text/plain": [
       "                                                                                                                                                                                                                                                                                                                                                                                                                                          review  \\\n",
       "1268  I've been using this app for a few months because it's very convenient. It's genrally user-friendly, great filter and search functions, good pictures and descriptions. However, it's slow to update the number of units, so I've received the wrong number of the same item a few times. On one occasion, I received the wrong fresh produce (presumably another customer's order). Tried customer service, but I didn't receive a reply.   \n",
       "3005                                                                                                                                                                                                                                      Service better but can be better A lot of items found in physical store not available here. Don’t why. Like kong guan pau never available online but always available in physical store wondering why?   \n",
       "3237                                                                                                                                                                                                                                                                                                                                                                                                        Membership inclusion Doesn’t seem to   \n",
       "1259                                                                                                                                                                                                                                                                                                                                                Similar to shopping on site, previously its hard to get delivery slot, now looks like better   \n",
       "1537                                                                                                                                                                                                                                                                                                                                                                                                                 okay but items outbof stock   \n",
       "1708                                                                                                                                                                                                                                                                                                                                      More friendly use & nice appearance. But I have to log in many times when I continue my shopping list.   \n",
       "3097                                                                                                                                                                                                                                                                                                         Delivery Timing May be can consider a more narrow time frame for delivery. 1 hour range instead of 2 hours. Overall the app is fine   \n",
       "1488                                                                                                                                                                                                                                                                                                                                                                                                                    always out of stock 🤦‍♀️   \n",
       "1393                                                                                                                                                                                                                                                                                                                                                                                            good app just abit slow to remove item from cart   \n",
       "1258                                                                                                                                                                                                        In beginning of cb period is very hard to get delivery slot. And your orders is always being modified on the day of delivery due to out of stock. If buy for stock up, it is good apps. If buy for urgent use, pls forget this apps.   \n",
       "\n",
       "      neg_review  rating  pred  \n",
       "1268           0       4     1  \n",
       "3005           0       4     1  \n",
       "3237           0       4     1  \n",
       "1259           0       4     1  \n",
       "1537           0       4     1  \n",
       "1708           0       4     1  \n",
       "3097           0       4     1  \n",
       "1488           0       4     1  \n",
       "1393           0       4     1  \n",
       "1258           0       4     1  "
      ]
     },
     "execution_count": 84,
     "metadata": {},
     "output_type": "execute_result"
    }
   ],
   "source": [
    "misclassified_df[(misclassified_df['neg_review'] == 0) & (misclassified_df['pred'] == 1) & (misclassified_df['rating'] == 4)][['review', 'neg_review', 'rating', 'pred']].head(10)"
   ]
  },
  {
   "cell_type": "markdown",
   "metadata": {},
   "source": [
    "Among the False Negatives, there are more reviews with rating 4. Among these misclassified reviews, some are mixed reviews with generally good feedback but some negative comments, like the following example."
   ]
  },
  {
   "cell_type": "code",
   "execution_count": 85,
   "metadata": {
    "scrolled": true
   },
   "outputs": [
    {
     "data": {
      "text/plain": [
       "\"I've been using this app for a few months because it's very convenient. It's genrally user-friendly, great filter and search functions, good pictures and descriptions. However, it's slow to update the number of units, so I've received the wrong number of the same item a few times. On one occasion, I received the wrong fresh produce (presumably another customer's order). Tried customer service, but I didn't receive a reply.\""
      ]
     },
     "execution_count": 85,
     "metadata": {},
     "output_type": "execute_result"
    }
   ],
   "source": [
    "misclassified_df.loc[1268, 'review']"
   ]
  },
  {
   "cell_type": "markdown",
   "metadata": {},
   "source": [
    "# 3. Topic Modelling"
   ]
  },
  {
   "cell_type": "markdown",
   "metadata": {},
   "source": [
    "To address the second project objective to identify customers' pain points for continuous customer experience improvement, I will perform a topic modelling on the negative reviews to see which are the topics that emerge."
   ]
  },
  {
   "cell_type": "markdown",
   "metadata": {},
   "source": [
    "Topic modelling is an unsupervised approach used for finding and observing the bunch of words (called “topics”) in large clusters of texts.\n",
    "\n",
    "I will be applying Latent Dirichlet Allocation (LDA). LDA assumes documents are produced from a mixture of topics. Those topics then generate words based on their probability distribution. Given a dataset of documents, LDA backtracks and tries to figure out what topics would create those documents in the first place."
   ]
  },
  {
   "cell_type": "code",
   "execution_count": 86,
   "metadata": {},
   "outputs": [],
   "source": [
    "# extracting only negative reviews\n",
    "data = df[df['neg_review'] == 1]['review'].values.tolist()"
   ]
  },
  {
   "cell_type": "markdown",
   "metadata": {},
   "source": [
    "Before building the model, let's preprocess the negative reviews to:\n",
    "* Remove stopwords\n",
    "* Form bigrams and trigrams\n",
    "* Lemmatize the words"
   ]
  },
  {
   "cell_type": "code",
   "execution_count": 87,
   "metadata": {},
   "outputs": [],
   "source": [
    "# set up a set of stopwords\n",
    "stops = set(stopwords.words('english'))\n",
    "stops.update(['app', 'apps', 'application', 'ntuc','fairprice']) "
   ]
  },
  {
   "cell_type": "code",
   "execution_count": 88,
   "metadata": {},
   "outputs": [],
   "source": [
    "# build the bigram and trigram models\n",
    "bigram = gensim.models.Phrases(data, min_count=5, threshold=100) # higher threshold fewer phrases.\n",
    "trigram = gensim.models.Phrases(bigram[data], threshold=100)  \n",
    "bigram_mod = gensim.models.phrases.Phraser(bigram)\n",
    "trigram_mod = gensim.models.phrases.Phraser(trigram)"
   ]
  },
  {
   "cell_type": "code",
   "execution_count": 89,
   "metadata": {},
   "outputs": [],
   "source": [
    "# define a function to process words\n",
    "def process_words(texts, stop_words=stops, allowed_postags=['NOUN', 'ADJ', 'VERB', 'ADV']):\n",
    "    \"\"\"Remove Stopwords, Form Bigrams, Trigrams and Lemmatization\"\"\"\n",
    "    texts = [[word for word in simple_preprocess(str(doc)) if word not in stops] for doc in texts]\n",
    "    texts = [bigram_mod[doc] for doc in texts]\n",
    "    texts = [trigram_mod[bigram_mod[doc]] for doc in texts]\n",
    "    texts_out = []\n",
    "    nlp = spacy.load('en_core_web_sm', disable=['parser', 'ner'])\n",
    "    for sent in texts:\n",
    "        doc = nlp(\" \".join(sent)) \n",
    "        texts_out.append([token.lemma_ for token in doc if token.pos_ in allowed_postags])\n",
    "    # remove stopwords once more after lemmatization\n",
    "    texts_out = [[word for word in simple_preprocess(str(doc)) if word not in stops] for doc in texts_out]    \n",
    "    return texts_out"
   ]
  },
  {
   "cell_type": "code",
   "execution_count": 90,
   "metadata": {},
   "outputs": [],
   "source": [
    "# preprocessing negative reviews\n",
    "data_ready = process_words(data)  "
   ]
  },
  {
   "cell_type": "code",
   "execution_count": 91,
   "metadata": {},
   "outputs": [
    {
     "data": {
      "text/plain": [
       "1775"
      ]
     },
     "execution_count": 91,
     "metadata": {},
     "output_type": "execute_result"
    }
   ],
   "source": [
    "# check the number of reviews after preprocessing\n",
    "len(data_ready)"
   ]
  },
  {
   "cell_type": "markdown",
   "metadata": {},
   "source": [
    "Now that the reviews have been preprocessed, let's proceed to build a LDA model.\n",
    "\n",
    "I have tried different number of topics, and the following model with 3 topics make most business sense in the EDA that follows."
   ]
  },
  {
   "cell_type": "code",
   "execution_count": 92,
   "metadata": {},
   "outputs": [
    {
     "name": "stdout",
     "output_type": "stream",
     "text": [
      "[(0,\n",
      "  '0.023*\"time\" + 0.022*\"use\" + 0.022*\"keep\" + 0.021*\"even\" + 0.019*\"card\" + '\n",
      "  '0.018*\"hang\" + 0.017*\"payment\" + 0.017*\"update\" + 0.016*\"unable\" + '\n",
      "  '0.014*\"code\"'),\n",
      " (1,\n",
      "  '0.029*\"item\" + 0.029*\"delivery\" + 0.025*\"online\" + 0.023*\"stock\" + '\n",
      "  '0.018*\"order\" + 0.015*\"purchase\" + 0.013*\"time\" + 0.012*\"point\" + '\n",
      "  '0.011*\"redmart\" + 0.011*\"available\"'),\n",
      " (2,\n",
      "  '0.052*\"slow\" + 0.033*\"item\" + 0.025*\"cart\" + 0.020*\"user\" + 0.019*\"crash\" + '\n",
      "  '0.018*\"take\" + 0.018*\"search\" + 0.017*\"time\" + 0.016*\"load\" + '\n",
      "  '0.015*\"update\"')]\n"
     ]
    }
   ],
   "source": [
    "# create dictionary\n",
    "neg_id2word = corpora.Dictionary(data_ready)\n",
    "\n",
    "# create corpus: term document frequency\n",
    "neg_corpus = [neg_id2word.doc2bow(text) for text in data_ready]\n",
    "\n",
    "# build LDA model of 3 topics\n",
    "neg_lda_model = gensim.models.ldamodel.LdaModel(corpus=neg_corpus,\n",
    "                                           id2word=neg_id2word,\n",
    "                                           num_topics=3, \n",
    "                                           random_state=100,\n",
    "                                           update_every=1,\n",
    "                                           chunksize=100,\n",
    "                                           passes=10,\n",
    "                                           alpha='symmetric',\n",
    "                                           iterations=100,\n",
    "                                           per_word_topics=True)\n",
    "\n",
    "pprint(neg_lda_model.print_topics())"
   ]
  },
  {
   "cell_type": "code",
   "execution_count": 93,
   "metadata": {
    "scrolled": false
   },
   "outputs": [],
   "source": [
    "# define a function to show the topic for each document\n",
    "def format_topics_sentences(ldamodel=None, corpus=None, texts=data):\n",
    "    # init output\n",
    "    sent_topics_df = pd.DataFrame()\n",
    "\n",
    "    # get main topic in each document\n",
    "    for i, row_list in enumerate(ldamodel[corpus]):\n",
    "        row = row_list[0] if ldamodel.per_word_topics else row_list            \n",
    "        # print(row)\n",
    "        row = sorted(row, key=lambda x: (x[1]), reverse=True)\n",
    "        # get the Dominant topic, Perc Contribution and Keywords for each document\n",
    "        for j, (topic_num, prop_topic) in enumerate(row):\n",
    "            if j == 0:  # => dominant topic\n",
    "                wp = ldamodel.show_topic(topic_num)\n",
    "                topic_keywords = \", \".join([word for word, prop in wp])\n",
    "                sent_topics_df = sent_topics_df.append(pd.Series([int(topic_num), round(prop_topic,4), topic_keywords]), ignore_index=True)\n",
    "            else:\n",
    "                break\n",
    "    sent_topics_df.columns = ['Dominant_Topic', 'Perc_Contribution', 'Topic_Keywords']\n",
    "\n",
    "    # add original text to the end of the output\n",
    "    contents = pd.Series(texts)\n",
    "    sent_topics_df = pd.concat([sent_topics_df, contents], axis=1)\n",
    "    return(sent_topics_df)"
   ]
  },
  {
   "cell_type": "code",
   "execution_count": 94,
   "metadata": {},
   "outputs": [
    {
     "data": {
      "text/html": [
       "<div>\n",
       "<style scoped>\n",
       "    .dataframe tbody tr th:only-of-type {\n",
       "        vertical-align: middle;\n",
       "    }\n",
       "\n",
       "    .dataframe tbody tr th {\n",
       "        vertical-align: top;\n",
       "    }\n",
       "\n",
       "    .dataframe thead th {\n",
       "        text-align: right;\n",
       "    }\n",
       "</style>\n",
       "<table border=\"1\" class=\"dataframe\">\n",
       "  <thead>\n",
       "    <tr style=\"text-align: right;\">\n",
       "      <th></th>\n",
       "      <th>Document_No</th>\n",
       "      <th>Dominant_Topic</th>\n",
       "      <th>Topic_Perc_Contrib</th>\n",
       "      <th>Keywords</th>\n",
       "      <th>Text</th>\n",
       "    </tr>\n",
       "  </thead>\n",
       "  <tbody>\n",
       "    <tr>\n",
       "      <th>0</th>\n",
       "      <td>0</td>\n",
       "      <td>0.0</td>\n",
       "      <td>0.5907</td>\n",
       "      <td>time, use, keep, even, card, hang, payment, update, unable, code</td>\n",
       "      <td>[good, experience, sign, problem, enter, detail, prompt, delivery, date, available, first, step, instead, last]</td>\n",
       "    </tr>\n",
       "    <tr>\n",
       "      <th>1</th>\n",
       "      <td>1</td>\n",
       "      <td>1.0</td>\n",
       "      <td>0.4806</td>\n",
       "      <td>item, delivery, online, stock, order, purchase, time, point, redmart, available</td>\n",
       "      <td>[lousiest, try, use, several, time, may, never, complete, transaction, reason, may, always, say, slot, time, slot, many, item, cart, become, stock, point, pay, delivery, fee, half, fill, cart, try, use, utilise, promo, code, keep, say, finally, get, accept, item, become, stock, irritating]</td>\n",
       "    </tr>\n",
       "    <tr>\n",
       "      <th>2</th>\n",
       "      <td>2</td>\n",
       "      <td>2.0</td>\n",
       "      <td>0.5391</td>\n",
       "      <td>slow, item, cart, user, crash, take, search, time, load, update</td>\n",
       "      <td>[lousy, find, item, use, brand, name, change, use, scanning, totally, disable, label, function, store, detect, slow, unstable, online, grocery, far, well]</td>\n",
       "    </tr>\n",
       "    <tr>\n",
       "      <th>3</th>\n",
       "      <td>3</td>\n",
       "      <td>2.0</td>\n",
       "      <td>0.7094</td>\n",
       "      <td>slow, item, cart, user, crash, take, search, time, load, update</td>\n",
       "      <td>[new, get, well, well, list, work, shop, old, improve, significantly, last, year, still, miss, want, order, give, quick, access, shopping, list, allow, sort, filter, favourite, shopping, list, make, inefficient, slow, shop, product, wise, consistently, rotten, fruit, vegetable]</td>\n",
       "    </tr>\n",
       "    <tr>\n",
       "      <th>4</th>\n",
       "      <td>4</td>\n",
       "      <td>1.0</td>\n",
       "      <td>0.9649</td>\n",
       "      <td>item, delivery, online, stock, order, purchase, time, point, redmart, available</td>\n",
       "      <td>[would, get, star, fact, think, well, enough, purchase, eligible, bonus, point, consumer, need, redemption, quite, disappointment, basic, feature, include]</td>\n",
       "    </tr>\n",
       "  </tbody>\n",
       "</table>\n",
       "</div>"
      ],
      "text/plain": [
       "   Document_No  Dominant_Topic  Topic_Perc_Contrib  \\\n",
       "0            0             0.0              0.5907   \n",
       "1            1             1.0              0.4806   \n",
       "2            2             2.0              0.5391   \n",
       "3            3             2.0              0.7094   \n",
       "4            4             1.0              0.9649   \n",
       "\n",
       "                                                                          Keywords  \\\n",
       "0                 time, use, keep, even, card, hang, payment, update, unable, code   \n",
       "1  item, delivery, online, stock, order, purchase, time, point, redmart, available   \n",
       "2                  slow, item, cart, user, crash, take, search, time, load, update   \n",
       "3                  slow, item, cart, user, crash, take, search, time, load, update   \n",
       "4  item, delivery, online, stock, order, purchase, time, point, redmart, available   \n",
       "\n",
       "                                                                                                                                                                                                                                                                                                 Text  \n",
       "0                                                                                                                                                                                     [good, experience, sign, problem, enter, detail, prompt, delivery, date, available, first, step, instead, last]  \n",
       "1  [lousiest, try, use, several, time, may, never, complete, transaction, reason, may, always, say, slot, time, slot, many, item, cart, become, stock, point, pay, delivery, fee, half, fill, cart, try, use, utilise, promo, code, keep, say, finally, get, accept, item, become, stock, irritating]  \n",
       "2                                                                                                                                          [lousy, find, item, use, brand, name, change, use, scanning, totally, disable, label, function, store, detect, slow, unstable, online, grocery, far, well]  \n",
       "3              [new, get, well, well, list, work, shop, old, improve, significantly, last, year, still, miss, want, order, give, quick, access, shopping, list, allow, sort, filter, favourite, shopping, list, make, inefficient, slow, shop, product, wise, consistently, rotten, fruit, vegetable]  \n",
       "4                                                                                                                                         [would, get, star, fact, think, well, enough, purchase, eligible, bonus, point, consumer, need, redemption, quite, disappointment, basic, feature, include]  "
      ]
     },
     "execution_count": 94,
     "metadata": {},
     "output_type": "execute_result"
    }
   ],
   "source": [
    "neg_df_topic_sents_keywords = format_topics_sentences(ldamodel=neg_lda_model, corpus=neg_corpus, texts=data_ready)\n",
    "\n",
    "# format the dataframe\n",
    "neg_df_dominant_topic = neg_df_topic_sents_keywords.reset_index()\n",
    "neg_df_dominant_topic.columns = ['Document_No', 'Dominant_Topic', 'Topic_Perc_Contrib', 'Keywords', 'Text']\n",
    "neg_df_dominant_topic.head(5)"
   ]
  },
  {
   "cell_type": "code",
   "execution_count": 95,
   "metadata": {},
   "outputs": [
    {
     "data": {
      "text/html": [
       "<div>\n",
       "<style scoped>\n",
       "    .dataframe tbody tr th:only-of-type {\n",
       "        vertical-align: middle;\n",
       "    }\n",
       "\n",
       "    .dataframe tbody tr th {\n",
       "        vertical-align: top;\n",
       "    }\n",
       "\n",
       "    .dataframe thead th {\n",
       "        text-align: right;\n",
       "    }\n",
       "</style>\n",
       "<table border=\"1\" class=\"dataframe\">\n",
       "  <thead>\n",
       "    <tr style=\"text-align: right;\">\n",
       "      <th></th>\n",
       "      <th>Topic_Num</th>\n",
       "      <th>Topic_Perc_Contrib</th>\n",
       "      <th>Keywords</th>\n",
       "      <th>Representative Text</th>\n",
       "    </tr>\n",
       "  </thead>\n",
       "  <tbody>\n",
       "    <tr>\n",
       "      <th>0</th>\n",
       "      <td>0.0</td>\n",
       "      <td>0.9736</td>\n",
       "      <td>time, use, keep, even, card, hang, payment, update, unable, code</td>\n",
       "      <td>[always, close, try, input, promo, code, want, give, discount, need, set, bug, shut, whenever, w...</td>\n",
       "    </tr>\n",
       "    <tr>\n",
       "      <th>1</th>\n",
       "      <td>1.0</td>\n",
       "      <td>0.9858</td>\n",
       "      <td>item, delivery, online, stock, order, purchase, time, point, redmart, available</td>\n",
       "      <td>[bother, delivery, well, redmart, honestbee, bad, experience, fp, use, service, mth, miss, item,...</td>\n",
       "    </tr>\n",
       "    <tr>\n",
       "      <th>2</th>\n",
       "      <td>2.0</td>\n",
       "      <td>0.9684</td>\n",
       "      <td>slow, item, cart, user, crash, take, search, time, load, update</td>\n",
       "      <td>[slow, last, update, become, super, slow, opening, cart, take, min, update, cart, take, minute, ...</td>\n",
       "    </tr>\n",
       "  </tbody>\n",
       "</table>\n",
       "</div>"
      ],
      "text/plain": [
       "   Topic_Num  Topic_Perc_Contrib  \\\n",
       "0        0.0              0.9736   \n",
       "1        1.0              0.9858   \n",
       "2        2.0              0.9684   \n",
       "\n",
       "                                                                          Keywords  \\\n",
       "0                 time, use, keep, even, card, hang, payment, update, unable, code   \n",
       "1  item, delivery, online, stock, order, purchase, time, point, redmart, available   \n",
       "2                  slow, item, cart, user, crash, take, search, time, load, update   \n",
       "\n",
       "                                                                                   Representative Text  \n",
       "0  [always, close, try, input, promo, code, want, give, discount, need, set, bug, shut, whenever, w...  \n",
       "1  [bother, delivery, well, redmart, honestbee, bad, experience, fp, use, service, mth, miss, item,...  \n",
       "2  [slow, last, update, become, super, slow, opening, cart, take, min, update, cart, take, minute, ...  "
      ]
     },
     "execution_count": 95,
     "metadata": {},
     "output_type": "execute_result"
    }
   ],
   "source": [
    "# Display setting to show more characters in column\n",
    "pd.options.display.max_colwidth = 100\n",
    "\n",
    "neg_sent_topics_sorteddf_mallet = pd.DataFrame()\n",
    "neg_sent_topics_outdf_grpd = neg_df_topic_sents_keywords.groupby('Dominant_Topic')\n",
    "\n",
    "for i, grp in neg_sent_topics_outdf_grpd:\n",
    "    neg_sent_topics_sorteddf_mallet = pd.concat([neg_sent_topics_sorteddf_mallet, \n",
    "                                             grp.sort_values(['Perc_Contribution'], ascending=False).head(1)], \n",
    "                                            axis=0)\n",
    "\n",
    "# Reset Index    \n",
    "neg_sent_topics_sorteddf_mallet.reset_index(drop=True, inplace=True)\n",
    "\n",
    "# Format\n",
    "neg_sent_topics_sorteddf_mallet.columns = ['Topic_Num', \"Topic_Perc_Contrib\", \"Keywords\", \"Representative Text\"]\n",
    "\n",
    "# Show\n",
    "neg_sent_topics_sorteddf_mallet.head(10)"
   ]
  },
  {
   "cell_type": "code",
   "execution_count": 96,
   "metadata": {},
   "outputs": [
    {
     "data": {
      "image/png": "[encoded data removed]",
      "text/plain": [
       "<Figure size 720x720 with 3 Axes>"
      ]
     },
     "metadata": {
      "needs_background": "light"
     },
     "output_type": "display_data"
    }
   ],
   "source": [
    "# Wordcloud of Top N words in each topic\n",
    "\n",
    "cols = [color for name, color in mcolors.TABLEAU_COLORS.items()]  \n",
    "\n",
    "cloud = WordCloud(stopwords=stops,\n",
    "                  background_color='white',\n",
    "                  width=2500,\n",
    "                  height=1800,\n",
    "                  max_words=10,\n",
    "                  colormap='tab10',\n",
    "                  color_func=lambda *args, **kwargs: cols[i],\n",
    "                  prefer_horizontal=1.0)\n",
    "\n",
    "topics = neg_lda_model.show_topics(formatted=False)\n",
    "\n",
    "fig, axes = plt.subplots(1, 3, figsize=(10,10), sharex=True, sharey=True)\n",
    "\n",
    "for i, ax in enumerate(axes.flatten()):\n",
    "    fig.add_subplot(ax)\n",
    "    topic_words = dict(topics[i][1])\n",
    "    cloud.generate_from_frequencies(topic_words, max_font_size=300)\n",
    "    plt.gca().imshow(cloud)\n",
    "    plt.gca().set_title('Topic ' + str(i), fontdict=dict(size=16))\n",
    "    plt.gca().axis('off')\n",
    "\n",
    "\n",
    "plt.subplots_adjust(wspace=0, hspace=0)\n",
    "plt.axis('off')\n",
    "plt.margins(x=0, y=0)\n",
    "plt.tight_layout()\n",
    "plt.show()"
   ]
  },
  {
   "cell_type": "markdown",
   "metadata": {},
   "source": [
    "Among the key topics derived from the **negative reviews**, the following **customers' pain points** are identified:\n",
    "\n",
    "* Topic 0: **Payment/ credit card issues**\n",
    "* Topic 1:  **Out-of-stock (OOS)/ No delivery slot**\n",
    "* Topic 2:  **Bugs/ Laggy interface**"
   ]
  },
  {
   "cell_type": "code",
   "execution_count": 97,
   "metadata": {},
   "outputs": [
    {
     "data": {
      "image/png": "[encoded data removed]",
      "text/plain": [
       "<Figure size 720x360 with 1 Axes>"
      ]
     },
     "metadata": {
      "needs_background": "light"
     },
     "output_type": "display_data"
    }
   ],
   "source": [
    "plt.figure(figsize=(10, 5))\n",
    "neg_df_dominant_topic['Dominant_Topic'].value_counts().sort_index().plot(kind='bar', color='lightpink')\n",
    "plt.xticks(np.arange(3), labels=['Payment/ Credit Card Issues', 'OOS/ No delivery Slot', 'Bugs/ Laggy Interface'], rotation=0)\n",
    "plt.title('Number of Negative Reviews by Topic', fontsize=16, y=1.01);"
   ]
  },
  {
   "cell_type": "markdown",
   "metadata": {},
   "source": [
    "Of thte 3 topics customer pain points, Bugs/ Laggy Interface is the most prominant one.\n",
    "\n",
    "Let's also take a look at the reviews for each pain point identified."
   ]
  },
  {
   "cell_type": "code",
   "execution_count": 98,
   "metadata": {},
   "outputs": [],
   "source": [
    "df_negative = df[df['neg_review'] == 1]\n",
    "df_negative.reset_index(drop=True, inplace=True)"
   ]
  },
  {
   "cell_type": "code",
   "execution_count": 99,
   "metadata": {},
   "outputs": [],
   "source": [
    "neg_df_dominant_topic['review']= df_negative['review']"
   ]
  },
  {
   "cell_type": "markdown",
   "metadata": {},
   "source": [
    "### Pain Point 1: Payment/ Credit Card Issues"
   ]
  },
  {
   "cell_type": "code",
   "execution_count": 100,
   "metadata": {},
   "outputs": [
    {
     "data": {
      "text/html": [
       "<div>\n",
       "<style scoped>\n",
       "    .dataframe tbody tr th:only-of-type {\n",
       "        vertical-align: middle;\n",
       "    }\n",
       "\n",
       "    .dataframe tbody tr th {\n",
       "        vertical-align: top;\n",
       "    }\n",
       "\n",
       "    .dataframe thead th {\n",
       "        text-align: right;\n",
       "    }\n",
       "</style>\n",
       "<table border=\"1\" class=\"dataframe\">\n",
       "  <thead>\n",
       "    <tr style=\"text-align: right;\">\n",
       "      <th></th>\n",
       "      <th>review</th>\n",
       "    </tr>\n",
       "  </thead>\n",
       "  <tbody>\n",
       "    <tr>\n",
       "      <th>0</th>\n",
       "      <td>Not a good experience for first timer. Login and sign up was not a problem. What i did not like at all was after entering all details it prompted me no delivery dates are available which should have been the first step instead of last</td>\n",
       "    </tr>\n",
       "    <tr>\n",
       "      <th>6</th>\n",
       "      <td>Encountered payment not successful error, credit card not charged. Pls check it out</td>\n",
       "    </tr>\n",
       "    <tr>\n",
       "      <th>22</th>\n",
       "      <td>App checkout was so slow. When I was trying to pay my bank gave an error with an OTP which turn made my transaction unsuccessful. And to make matters worse, my cart became empty.</td>\n",
       "    </tr>\n",
       "    <tr>\n",
       "      <th>30</th>\n",
       "      <td>Cannot use the scan n go</td>\n",
       "    </tr>\n",
       "    <tr>\n",
       "      <th>33</th>\n",
       "      <td>please extend the payment method like pay now and paylah as well. Thank you.</td>\n",
       "    </tr>\n",
       "    <tr>\n",
       "      <th>40</th>\n",
       "      <td>Terrible app with bugs! Contact us is a web view which cannot upload photos as intended. Long waiting time and no feedback that the form is under server processing. Password management is highly insecured. Lost confidence to input credit card information. Multiple halt and hungs where I am out of the app to my app launchpad on Android 8. Poor Usability, User Journey Thinking and User Experience! These are reasons now not to award any stars if possi le to such crappy app!</td>\n",
       "    </tr>\n",
       "    <tr>\n",
       "      <th>41</th>\n",
       "      <td>The transaction could not go through citing to me that my ocbc credit card had expired. I uninstalled and reinstalled the app, deleted and added the credit card details only to be told the same error message. I tried a credit card with another bank, dbs, and it worked. I even called ocbc to verify the status of the card abd the cso reassured me that there was no issue. A huge inconveniece indeed!</td>\n",
       "    </tr>\n",
       "    <tr>\n",
       "      <th>44</th>\n",
       "      <td>The old apps used to work fine. After some upgrade, it was horrible. The payment and checkout keep registering unsuccessful transaction and ask to check for card expiry. It is your apps problem NTUC FairOn ...nothing to do with the bank credit card. When the app is doing fine, leave it - don't be too clever to change it. BTW, the new app is not user friendly because you cannot re-order again from your last order...disappointing!</td>\n",
       "    </tr>\n",
       "    <tr>\n",
       "      <th>45</th>\n",
       "      <td>Tried making a purchase but facing buggy experience at the checkout page. Key in all my details but the Pay button disappears after verifying my delivery address. Really disappointed with the app. Update: managed to purchased 4 XXL size diapers using laptop web browser but received 4 L size diapers. You screwed up my first purchase! What the hell is wrong with fairprice online?</td>\n",
       "    </tr>\n",
       "    <tr>\n",
       "      <th>47</th>\n",
       "      <td>frustrating, not user friendly, promotion code when applied keep giving error message, feedback template could not upload image file despite pressing the + sign. Called helpdesk, lucky that the operator was helpful who email me so that i can do a reply and attach the image file of the error message. But still waiting for response probably by then the promotion code expired. Very disappointed!</td>\n",
       "    </tr>\n",
       "  </tbody>\n",
       "</table>\n",
       "</div>"
      ],
      "text/plain": [
       "                                                                                                                                                                                                                                                                                                                                                                                                                                                                                         review\n",
       "0                                                                                                                                                                                                                                                    Not a good experience for first timer. Login and sign up was not a problem. What i did not like at all was after entering all details it prompted me no delivery dates are available which should have been the first step instead of last\n",
       "6                                                                                                                                                                                                                                                                                                                                                                                                           Encountered payment not successful error, credit card not charged. Pls check it out\n",
       "22                                                                                                                                                                                                                                                                                                           App checkout was so slow. When I was trying to pay my bank gave an error with an OTP which turn made my transaction unsuccessful. And to make matters worse, my cart became empty.\n",
       "30                                                                                                                                                                                                                                                                                                                                                                                                                                                                     Cannot use the scan n go\n",
       "33                                                                                                                                                                                                                                                                                                                                                                                                                 please extend the payment method like pay now and paylah as well. Thank you.\n",
       "40  Terrible app with bugs! Contact us is a web view which cannot upload photos as intended. Long waiting time and no feedback that the form is under server processing. Password management is highly insecured. Lost confidence to input credit card information. Multiple halt and hungs where I am out of the app to my app launchpad on Android 8. Poor Usability, User Journey Thinking and User Experience! These are reasons now not to award any stars if possi le to such crappy app!\n",
       "41                                                                              The transaction could not go through citing to me that my ocbc credit card had expired. I uninstalled and reinstalled the app, deleted and added the credit card details only to be told the same error message. I tried a credit card with another bank, dbs, and it worked. I even called ocbc to verify the status of the card abd the cso reassured me that there was no issue. A huge inconveniece indeed!\n",
       "44                                             The old apps used to work fine. After some upgrade, it was horrible. The payment and checkout keep registering unsuccessful transaction and ask to check for card expiry. It is your apps problem NTUC FairOn ...nothing to do with the bank credit card. When the app is doing fine, leave it - don't be too clever to change it. BTW, the new app is not user friendly because you cannot re-order again from your last order...disappointing!\n",
       "45                                                                                                 Tried making a purchase but facing buggy experience at the checkout page. Key in all my details but the Pay button disappears after verifying my delivery address. Really disappointed with the app. Update: managed to purchased 4 XXL size diapers using laptop web browser but received 4 L size diapers. You screwed up my first purchase! What the hell is wrong with fairprice online?\n",
       "47                                                                                  frustrating, not user friendly, promotion code when applied keep giving error message, feedback template could not upload image file despite pressing the + sign. Called helpdesk, lucky that the operator was helpful who email me so that i can do a reply and attach the image file of the error message. But still waiting for response probably by then the promotion code expired. Very disappointed!"
      ]
     },
     "execution_count": 100,
     "metadata": {},
     "output_type": "execute_result"
    }
   ],
   "source": [
    "# negative reviews on the topic 'Payment/ Credit Card Issues'\n",
    "pd.set_option('display.max_colwidth', None)\n",
    "neg_df_dominant_topic[neg_df_dominant_topic['Dominant_Topic'] == 0.0][['review']].head(10)"
   ]
  },
  {
   "cell_type": "markdown",
   "metadata": {},
   "source": [
    "Among the negative reviews on **Payment/ Credit Card Issues**, some of the key issues faced by customers include:\n",
    "\n",
    "* Error during payment\n",
    "* App stating that credit card is expired (when it is not)\n",
    "* Error when using promotion codes"
   ]
  },
  {
   "cell_type": "markdown",
   "metadata": {},
   "source": [
    "### Pain Point 2: Out-of-Stock/ No Delivery Slot"
   ]
  },
  {
   "cell_type": "code",
   "execution_count": 101,
   "metadata": {},
   "outputs": [
    {
     "data": {
      "text/html": [
       "<div>\n",
       "<style scoped>\n",
       "    .dataframe tbody tr th:only-of-type {\n",
       "        vertical-align: middle;\n",
       "    }\n",
       "\n",
       "    .dataframe tbody tr th {\n",
       "        vertical-align: top;\n",
       "    }\n",
       "\n",
       "    .dataframe thead th {\n",
       "        text-align: right;\n",
       "    }\n",
       "</style>\n",
       "<table border=\"1\" class=\"dataframe\">\n",
       "  <thead>\n",
       "    <tr style=\"text-align: right;\">\n",
       "      <th></th>\n",
       "      <th>review</th>\n",
       "    </tr>\n",
       "  </thead>\n",
       "  <tbody>\n",
       "    <tr>\n",
       "      <th>1</th>\n",
       "      <td>One of the lousiest app! Tried using it several times since May 20 but never once did I complete the transaction. Reason: 1. In May 20 it always say \"no slot\". By the time there was slot, many items in my cart had become \"no stock\". No point for me to pay the delivery fee for a \"half-filled cart\". 2. In Jul 20 I tried to use the app again to utilise a promo code. But it kept saying \"promo code error\". When the code finally got accepted, some items became \"no stock\" again. It's so irritating!</td>\n",
       "    </tr>\n",
       "    <tr>\n",
       "      <th>4</th>\n",
       "      <td>The app would have gotten a 4 stars from me except the fact that it is not thought thru well enough as all purchases thru this app are not eligible for the bonus points that consumers need for redemption. It is quite a disappointment that such a basic feature is not included into the app.</td>\n",
       "    </tr>\n",
       "    <tr>\n",
       "      <th>5</th>\n",
       "      <td>All the complaints by other users also happened to me. I even email to them but nothing rectified. I think I have to uninstall this app totally and stop ordering from them online. Think I can't even give them a star, but I can't post when I didn't click 1 star .Waste a lot of my time locking in and out, items out of stock, no time slot available and can't even checkout.</td>\n",
       "    </tr>\n",
       "    <tr>\n",
       "      <th>7</th>\n",
       "      <td>Always get changes to my order. Items out of stock after order is placed. Free delivery but charge service and packing. So it is not really free. One item on sale in the app but charged full amount.</td>\n",
       "    </tr>\n",
       "    <tr>\n",
       "      <th>9</th>\n",
       "      <td>Looks like it's not working. Anytime l login, it shows slots are full. How come no slot available anytime time of the day or night? Extremely disappointed</td>\n",
       "    </tr>\n",
       "    <tr>\n",
       "      <th>10</th>\n",
       "      <td>Ridiculous fees with 1001 restrictions! Use at your own risk!A lot of items out of stock but the nearby physical store has the stock!</td>\n",
       "    </tr>\n",
       "    <tr>\n",
       "      <th>12</th>\n",
       "      <td>Useless online grocery app. Poor product range and availablity. Most things are out of stock.</td>\n",
       "    </tr>\n",
       "    <tr>\n",
       "      <th>14</th>\n",
       "      <td>Purchases made through your FairPrice app will not get to earn Link! Points. Very unfair and highly disappointed at your policies. Will delete this app henceforth.</td>\n",
       "    </tr>\n",
       "    <tr>\n",
       "      <th>15</th>\n",
       "      <td>Why no linkpoint issuance or assoc. Still ntuc member and doing shopping on ntuc platform. whats the point of having an online platform yet you discourage people to do online n go offline shoppi g to gain the points?</td>\n",
       "    </tr>\n",
       "    <tr>\n",
       "      <th>16</th>\n",
       "      <td>Unstable. Cannot view order on the day of delivery so cannot check delivery stuff.</td>\n",
       "    </tr>\n",
       "  </tbody>\n",
       "</table>\n",
       "</div>"
      ],
      "text/plain": [
       "                                                                                                                                                                                                                                                                                                                                                                                                                                                                                                              review\n",
       "1   One of the lousiest app! Tried using it several times since May 20 but never once did I complete the transaction. Reason: 1. In May 20 it always say \"no slot\". By the time there was slot, many items in my cart had become \"no stock\". No point for me to pay the delivery fee for a \"half-filled cart\". 2. In Jul 20 I tried to use the app again to utilise a promo code. But it kept saying \"promo code error\". When the code finally got accepted, some items became \"no stock\" again. It's so irritating!\n",
       "4                                                                                                                                                                                                                  The app would have gotten a 4 stars from me except the fact that it is not thought thru well enough as all purchases thru this app are not eligible for the bonus points that consumers need for redemption. It is quite a disappointment that such a basic feature is not included into the app.\n",
       "5                                                                                                                               All the complaints by other users also happened to me. I even email to them but nothing rectified. I think I have to uninstall this app totally and stop ordering from them online. Think I can't even give them a star, but I can't post when I didn't click 1 star .Waste a lot of my time locking in and out, items out of stock, no time slot available and can't even checkout.\n",
       "7                                                                                                                                                                                                                                                                                                             Always get changes to my order. Items out of stock after order is placed. Free delivery but charge service and packing. So it is not really free. One item on sale in the app but charged full amount.\n",
       "9                                                                                                                                                                                                                                                                                                                                                         Looks like it's not working. Anytime l login, it shows slots are full. How come no slot available anytime time of the day or night? Extremely disappointed\n",
       "10                                                                                                                                                                                                                                                                                                                                                                             Ridiculous fees with 1001 restrictions! Use at your own risk!A lot of items out of stock but the nearby physical store has the stock!\n",
       "12                                                                                                                                                                                                                                                                                                                                                                                                                     Useless online grocery app. Poor product range and availablity. Most things are out of stock.\n",
       "14                                                                                                                                                                                                                                                                                                                                               Purchases made through your FairPrice app will not get to earn Link! Points. Very unfair and highly disappointed at your policies. Will delete this app henceforth.\n",
       "15                                                                                                                                                                                                                                                                                          Why no linkpoint issuance or assoc. Still ntuc member and doing shopping on ntuc platform. whats the point of having an online platform yet you discourage people to do online n go offline shoppi g to gain the points?\n",
       "16                                                                                                                                                                                                                                                                                                                                                                                                                                Unstable. Cannot view order on the day of delivery so cannot check delivery stuff."
      ]
     },
     "execution_count": 101,
     "metadata": {},
     "output_type": "execute_result"
    }
   ],
   "source": [
    "neg_df_dominant_topic[neg_df_dominant_topic['Dominant_Topic'] == 1.0][['review']].head(10)"
   ]
  },
  {
   "cell_type": "markdown",
   "metadata": {},
   "source": [
    "The negative reviews on **Out-of-stock/ No delivery slot** issues mainly point to frustrated customers no being able to get delivery slots, or the items they want are out-of-stock by the time a delivery slot is made available."
   ]
  },
  {
   "cell_type": "markdown",
   "metadata": {},
   "source": [
    "### Pain Point 3: Laggy Interface"
   ]
  },
  {
   "cell_type": "code",
   "execution_count": 102,
   "metadata": {},
   "outputs": [
    {
     "data": {
      "text/html": [
       "<div>\n",
       "<style scoped>\n",
       "    .dataframe tbody tr th:only-of-type {\n",
       "        vertical-align: middle;\n",
       "    }\n",
       "\n",
       "    .dataframe tbody tr th {\n",
       "        vertical-align: top;\n",
       "    }\n",
       "\n",
       "    .dataframe thead th {\n",
       "        text-align: right;\n",
       "    }\n",
       "</style>\n",
       "<table border=\"1\" class=\"dataframe\">\n",
       "  <thead>\n",
       "    <tr style=\"text-align: right;\">\n",
       "      <th></th>\n",
       "      <th>review</th>\n",
       "    </tr>\n",
       "  </thead>\n",
       "  <tbody>\n",
       "    <tr>\n",
       "      <th>2</th>\n",
       "      <td>Lousy app. Cannot find most items using brand name. Now they change the use of label scanning in app which totally disable the label function when store not detected. Slow and unstable. Any online grocery app now is far better.</td>\n",
       "    </tr>\n",
       "    <tr>\n",
       "      <th>3</th>\n",
       "      <td>NEW : GETS BETTER AND BETTER - MY LISTS DON'T WORK NOW - how to shop? OLD: this app has improved significantly over the last 2+year. It still is missing the AI to anticipate what you want to order and to. give quick access to your shopping list and. allow you to sort and filter your favourites / shopping list ... This makes the app. very inefficient and slow to shop in.. And product wise - consistently rotten fruit and vegetables</td>\n",
       "    </tr>\n",
       "    <tr>\n",
       "      <th>8</th>\n",
       "      <td>Very lousy experience. Not able to change on self collect even the help guide say otherwise. Not user friendly. Hard to navigate</td>\n",
       "    </tr>\n",
       "    <tr>\n",
       "      <th>11</th>\n",
       "      <td>Rubbish app. Added 20 over items. All disappear from cart when about to pay. Big enterprise earning so much profit a year cannot afford to test and remove bugs from app.</td>\n",
       "    </tr>\n",
       "    <tr>\n",
       "      <th>13</th>\n",
       "      <td>Some items keep disappearing from the cart when i tried to pay!! What's happening???</td>\n",
       "    </tr>\n",
       "    <tr>\n",
       "      <th>17</th>\n",
       "      <td>The app is very very slow and takes a very long time to load. Alot of the items are out of stock too. The delivery time is also unavailable. I have been trying to load my cart for more than half an hour now and it's still not loading until now. ( not my network as all the other apps works perfectly fine)</td>\n",
       "    </tr>\n",
       "    <tr>\n",
       "      <th>18</th>\n",
       "      <td>At first, delivered items on the last order still appeared in the cart. After removing them manually item by item, they still appeared after opened app from another phone. Then all reappeared on my phone after I clicked on cart. fter I spent 30 mins putting itens into cart, all items disappeared! It seems items which should be removed aren't removed and items which are newly added are removed. Wasted my time and effort!!!</td>\n",
       "    </tr>\n",
       "    <tr>\n",
       "      <th>19</th>\n",
       "      <td>The app is getting worse, it will show items out of stock immediately after i selected the item. Now I can't even checkout, it will tell me I have an invalid cart. I was patient enough to clear everything in my cart and add back the items but it still failed.</td>\n",
       "    </tr>\n",
       "    <tr>\n",
       "      <th>20</th>\n",
       "      <td>Techical bugs need to be fixed, e.g. 'invalid cart'. Should not auto-remove our item if it's out of stock. Why not just disable the check-out function for the item while maintaining it at the cart? I have been using this app for more than 3 years. Before the CB, things work fine. During the CB, i can see that other platforms are catching up and improving their app, now working much better than this app. FairPrice Online instead is lagging behind and losing the #1 choice reputation.</td>\n",
       "    </tr>\n",
       "    <tr>\n",
       "      <th>25</th>\n",
       "      <td>I don't know how this app was on normal times, but in this high demand time, exactly at midnight the cart never loads, and after every few minutes it says my cart is empty. Failed Load Test Miserably</td>\n",
       "    </tr>\n",
       "  </tbody>\n",
       "</table>\n",
       "</div>"
      ],
      "text/plain": [
       "                                                                                                                                                                                                                                                                                                                                                                                                                                                                                                    review\n",
       "2                                                                                                                                                                                                                                                                      Lousy app. Cannot find most items using brand name. Now they change the use of label scanning in app which totally disable the label function when store not detected. Slow and unstable. Any online grocery app now is far better.\n",
       "3                                                        NEW : GETS BETTER AND BETTER - MY LISTS DON'T WORK NOW - how to shop? OLD: this app has improved significantly over the last 2+year. It still is missing the AI to anticipate what you want to order and to. give quick access to your shopping list and. allow you to sort and filter your favourites / shopping list ... This makes the app. very inefficient and slow to shop in.. And product wise - consistently rotten fruit and vegetables\n",
       "8                                                                                                                                                                                                                                                                                                                                                                         Very lousy experience. Not able to change on self collect even the help guide say otherwise. Not user friendly. Hard to navigate\n",
       "11                                                                                                                                                                                                                                                                                                                               Rubbish app. Added 20 over items. All disappear from cart when about to pay. Big enterprise earning so much profit a year cannot afford to test and remove bugs from app.\n",
       "13                                                                                                                                                                                                                                                                                                                                                                                                                    Some items keep disappearing from the cart when i tried to pay!! What's happening???\n",
       "17                                                                                                                                                                                       The app is very very slow and takes a very long time to load. Alot of the items are out of stock too. The delivery time is also unavailable. I have been trying to load my cart for more than half an hour now and it's still not loading until now. ( not my network as all the other apps works perfectly fine)\n",
       "18                                                               At first, delivered items on the last order still appeared in the cart. After removing them manually item by item, they still appeared after opened app from another phone. Then all reappeared on my phone after I clicked on cart. fter I spent 30 mins putting itens into cart, all items disappeared! It seems items which should be removed aren't removed and items which are newly added are removed. Wasted my time and effort!!!\n",
       "19                                                                                                                                                                                                                                     The app is getting worse, it will show items out of stock immediately after i selected the item. Now I can't even checkout, it will tell me I have an invalid cart. I was patient enough to clear everything in my cart and add back the items but it still failed.\n",
       "20  Techical bugs need to be fixed, e.g. 'invalid cart'. Should not auto-remove our item if it's out of stock. Why not just disable the check-out function for the item while maintaining it at the cart? I have been using this app for more than 3 years. Before the CB, things work fine. During the CB, i can see that other platforms are catching up and improving their app, now working much better than this app. FairPrice Online instead is lagging behind and losing the #1 choice reputation.\n",
       "25                                                                                                                                                                                                                                                                                                 I don't know how this app was on normal times, but in this high demand time, exactly at midnight the cart never loads, and after every few minutes it says my cart is empty. Failed Load Test Miserably"
      ]
     },
     "execution_count": 102,
     "metadata": {},
     "output_type": "execute_result"
    }
   ],
   "source": [
    "neg_df_dominant_topic[neg_df_dominant_topic['Dominant_Topic'] == 2.0][['review']].head(10)"
   ]
  },
  {
   "cell_type": "markdown",
   "metadata": {},
   "source": [
    "Some of the negative reviews pertaining to **Bugs/ laggy interface** touch on:\n",
    "\n",
    "* Takes very slow to load shopping cart\n",
    "* Items disappearing from shopping cart/ items remaining in shopping cart after order\n",
    "* Unable to search items by brand"
   ]
  },
  {
   "cell_type": "markdown",
   "metadata": {},
   "source": [
    "### Visualisation of Topic Cluster using pyLDAvis"
   ]
  },
  {
   "cell_type": "code",
   "execution_count": 103,
   "metadata": {},
   "outputs": [],
   "source": [
    "import pyLDAvis.gensim\n",
    "pyLDAvis.enable_notebook()\n",
    "neg_vis = pyLDAvis.gensim.prepare(neg_lda_model, neg_corpus, dictionary=neg_lda_model.id2word, sort_topics=False)\n",
    "pyLDAvis.save_html(neg_vis, './output/neg_lda.html')"
   ]
  },
  {
   "cell_type": "markdown",
   "metadata": {},
   "source": [
    "<img src=\"./images/topic modelling_negative reviews.png\" width=\"700\" align=\"left\">"
   ]
  },
  {
   "cell_type": "markdown",
   "metadata": {},
   "source": [
    "This is a static snap shot. Please refer to the interactive version of the LDA visualisation **neg_lda.html** in the **output** folder.\n",
    "\n",
    "It can be seen that the 3 topics identified are distinct clusters without overlap. "
   ]
  },
  {
   "cell_type": "markdown",
   "metadata": {},
   "source": [
    "# 4. Conclusion & Recommendation"
   ]
  },
  {
   "cell_type": "markdown",
   "metadata": {},
   "source": [
    "### 1. Text classification to identify negative reviews for prompt follow up\n",
    "\n",
    "Based on evaluation of the variou classification models built, the production model is a **Voting Classifier** consisting of an ensemble of a **Multinomial NB model and Logistic Regression model**, with features extracted using the **TfidfVectorizer**. \n",
    "\n",
    "Given its **relatively high accuracy (0.88) and recall (0.89) on the test data**, we can conclude that the model generalises well on unseen data, and can be used to **identify negative reviews** for NTUC Fairprice mobile app, which can **allow for prompt follow up and service recovery**.\n",
    "\n",
    "\n",
    "### 2. Topic modelling to identify customer pain points for improvement opportunities\n",
    "\n",
    "Based the **topic modelling using LDA**, the 3 main customer pain points identified are:\n",
    "\n",
    "1. **Bugs/ Laggy interface**\n",
    "2. **Out-of-stock/ No delivery slot**\n",
    "3. **Payment/ Credit card issues**\n",
    "\n",
    "Based on these pain points on the user journey, it can be seen that **poor customer experience leans towards the later part of the user journey**, leading to **abandon carts** and **loss of revenue**."
   ]
  },
  {
   "cell_type": "markdown",
   "metadata": {},
   "source": [
    "*User Journey Mapping*"
   ]
  },
  {
   "cell_type": "markdown",
   "metadata": {},
   "source": [
    "<img src=\"./images/user journey.png\" width=\"800\" align=\"left\">"
   ]
  },
  {
   "cell_type": "markdown",
   "metadata": {},
   "source": [
    "The NTUC Fairprice mobile app team can look into ways to improve customer experience, by prioritising 2 aspects:\n",
    "\n",
    "1. App development team - To focus on ensuring that app is not laggy in times of high loads, and rectify issues such as items disappearing from carts and payment errors.\n",
    "\n",
    "2. Operations & supply chain team - To focus on inventory management, and improve delivery capacity, either through expanding delivery team or engaging third party logistics support.\n"
   ]
  },
  {
   "cell_type": "code",
   "execution_count": null,
   "metadata": {},
   "outputs": [],
   "source": []
  }
 ],
 "metadata": {
  "kernelspec": {
   "display_name": "Python 3",
   "language": "python",
   "name": "python3"
  },
  "language_info": {
   "codemirror_mode": {
    "name": "ipython",
    "version": 3
   },
   "file_extension": ".py",
   "mimetype": "text/x-python",
   "name": "python",
   "nbconvert_exporter": "python",
   "pygments_lexer": "ipython3",
   "version": "3.7.6"
  }
 },
 "nbformat": 4,
 "nbformat_minor": 4
}
